{
 "cells": [
  {
   "cell_type": "code",
   "execution_count": 1,
   "metadata": {},
   "outputs": [
    {
     "data": {
      "text/plain": [
       "<module 'methods' from '/Users/preetkaria/Desktop/RA/time_to_leave/methods.py'>"
      ]
     },
     "execution_count": 1,
     "metadata": {},
     "output_type": "execute_result"
    }
   ],
   "source": [
    "import sys\n",
    "from pathlib import Path\n",
    "parent_dir = Path('.').resolve().parent\n",
    "sys.path.insert(0, str(parent_dir))\n",
    "\n",
    "import numpy as np\n",
    "import pandas as pd\n",
    "import math\n",
    "import random\n",
    "import statistics\n",
    "import importlib\n",
    "\n",
    "import math_expressions as mexpr\n",
    "importlib.reload(mexpr)\n",
    "\n",
    "import methods\n",
    "importlib.reload(methods)"
   ]
  },
  {
   "cell_type": "code",
   "execution_count": 2,
   "metadata": {},
   "outputs": [],
   "source": [
    "alpha_range = [2, 4, 6, 8]\n",
    "beta_range = [1, 2, 4, 6]\n",
    "h_range = [1/15, 2/15, 10/15]\n",
    "c_range = [20, 25, 30, 10]\n",
    "N_range = range(3, 6)\n",
    "n_range = [5]"
   ]
  },
  {
   "cell_type": "code",
   "execution_count": 3,
   "metadata": {},
   "outputs": [],
   "source": [
    "columns = ['alpha', 'beta', 'N', 'n', 'h', 'c', 'mean_n', 'std_n', 'alpha_hat', 'beta_hat', 'u_star', 'u_star_hat', 'z', 'u', 'optimal_cost', 'actual_cost', 'intervals_str']\n",
    "df = pd.DataFrame(columns=columns)"
   ]
  },
  {
   "cell_type": "code",
   "execution_count": 4,
   "metadata": {},
   "outputs": [
    {
     "name": "stdout",
     "output_type": "stream",
     "text": [
      "{'alpha': 6, 'beta': 2, 'N': 4, 'n': 5, 'h': 0.6666666666666666, 'c': 20, 'mean_n': 12.443550732949118, 'std_n': 5.159124123553761, 'alpha_hat': 6, 'beta_hat': 2.1389844662067965, 'u_star': 38.09338185787629, 'u_star_hat': 41.27544607794227, 'z': 0.922906606168298, 'u': 27.047200355137484, 'optimal_cost': 20, 'actual_cost': 20, 'intervals_str': '19.330937006565275_6.304903371950173_10.358245578413795_10.274100291961883_15.949567415854462_8.592285681332493_5.864235490403243_6.4768026083394625_6.113876575062283'}\n",
      "{'alpha': 2, 'beta': 4, 'N': 4, 'n': 5, 'h': 0.06666666666666667, 'c': 30, 'mean_n': 8.348155299244908, 'std_n': 2.4766219835620245, 'alpha_hat': 11, 'beta_hat': 0.7347319532996094, 'u_star': 9.748365611869845, 'u_star_hat': 20.340699601384014, 'z': 0.47925419493469884, 'u': 38.17392146482595, 'optimal_cost': 1.8950370568637405, 'actual_cost': 1.188881457562796, 'intervals_str': '6.42533611970204_7.267416045547929_12.118881589280708_6.3588402520829925_9.570302489610869_5.0359709096993255_3.8843743315814994_15.608680287882704_13.644895935662426'}\n",
      "{'alpha': 8, 'beta': 6, 'N': 3, 'n': 5, 'h': 0.6666666666666666, 'c': 10, 'mean_n': 48.67880296606436, 'std_n': 16.972756266832622, 'alpha_hat': 8, 'beta_hat': 5.917862349535022, 'u_star': 216.7266490760058, 'u_star_hat': 211.5725768592459, 'z': 1.024360776303201, 'u': 111.99576186372663, 'optimal_cost': 10, 'actual_cost': 10, 'intervals_str': '20.79192862252269_56.65662483403159_64.46004531340988_45.57514571750569_55.910270342851945_29.519150442449295_28.200781351181213_54.27583007009612'}\n",
      "{'alpha': 8, 'beta': 6, 'N': 5, 'n': 5, 'h': 0.6666666666666666, 'c': 20, 'mean_n': 39.53267076435169, 'std_n': 11.340199065855469, 'alpha_hat': 12, 'beta_hat': 3.253008520972317, 'u_star': 269.48030604077513, 'u_star_hat': 195.8295675564685, 'z': 1.3760961095063902, 'u': 228.04428167590743, 'optimal_cost': 20, 'actual_cost': 21.476476079625947, 'intervals_str': '23.400532927359993_39.20904124992205_35.61670856767009_45.768129873016164_53.668941203790155_33.74726707818006_36.752090240456084_41.90647772568133_67.53446248768702_48.103984143902935'}\n",
      "{'alpha': 4, 'beta': 6, 'N': 5, 'n': 5, 'h': 0.13333333333333333, 'c': 30, 'mean_n': 21.104855612966603, 'std_n': 10.097073259910214, 'alpha_hat': 4, 'beta_hat': 4.830684003986094, 'u_star': 77.24899217458156, 'u_star_hat': 60.19581313427457, 'z': 1.2832951023066614, 'u': 123.20645976272485, 'optimal_cost': 6.1276623450857715, 'actual_cost': 8.401419550460037, 'intervals_str': '29.600895845585907_4.3327499423800635_23.085221946438622_28.162792183584017_20.3426181468444_14.411696240616306_22.271158769247876_18.636349594233035_32.58786413017117_35.299391028456455'}\n"
     ]
    }
   ],
   "source": [
    "for _ in range(5):\n",
    "    alpha = random.choice(alpha_range)\n",
    "    beta = random.choice(beta_range)\n",
    "    h = random.choice(h_range)\n",
    "    c = random.choice(c_range)\n",
    "    N = random.choice(N_range)\n",
    "    n = random.choice(n_range)\n",
    "    intervals = np.random.gamma(shape=alpha, scale=beta, size=N+n)\n",
    "\n",
    "    mean_n = statistics.mean(intervals[:n])\n",
    "    std_n = statistics.stdev(intervals[:n])\n",
    "\n",
    "    alpha_hat, beta_hat = methods.gamma_estimate_parameters(n, intervals)\n",
    "    alpha_hat = round(alpha_hat) # fractional alpha has no solution for u*, hencing rounding it.\n",
    "\n",
    "    u = methods.cal_actual_time(n, intervals)\n",
    "    u_star = methods.get_u_star(N, alpha, beta, h, c)\n",
    "    u_star_hat = methods.get_u_star(N, alpha_hat, beta_hat, h, c)\n",
    "    z=u_star / u_star_hat\n",
    "\n",
    "    optimal_cost = methods.cal_cost(c, h, u, u_star)\n",
    "    actual_cost = methods.cal_cost(c, h, u, u_star_hat)\n",
    "\n",
    "    intervals_str = '_'.join([str(x) for x in intervals])\n",
    "    dic = {'alpha': alpha,\n",
    "           'beta': beta,\n",
    "           'N': N,\n",
    "           'n':n,\n",
    "           'h': h,\n",
    "           'c': c,\n",
    "           'mean_n': mean_n,\n",
    "           'std_n': std_n,\n",
    "           'alpha_hat': alpha_hat,\n",
    "           'beta_hat': beta_hat,\n",
    "           'u_star': u_star,\n",
    "           'u_star_hat': u_star_hat,\n",
    "           'z': z,\n",
    "           'u': u,\n",
    "           'optimal_cost': optimal_cost,\n",
    "           'actual_cost': actual_cost,\n",
    "           'intervals_str': intervals_str}\n",
    "    print(dic)\n",
    "    df.loc[len(df)] = dic\n"
   ]
  },
  {
   "cell_type": "code",
   "execution_count": 5,
   "metadata": {},
   "outputs": [
    {
     "data": {
      "text/html": [
       "<div>\n",
       "<style scoped>\n",
       "    .dataframe tbody tr th:only-of-type {\n",
       "        vertical-align: middle;\n",
       "    }\n",
       "\n",
       "    .dataframe tbody tr th {\n",
       "        vertical-align: top;\n",
       "    }\n",
       "\n",
       "    .dataframe thead th {\n",
       "        text-align: right;\n",
       "    }\n",
       "</style>\n",
       "<table border=\"1\" class=\"dataframe\">\n",
       "  <thead>\n",
       "    <tr style=\"text-align: right;\">\n",
       "      <th></th>\n",
       "      <th>alpha</th>\n",
       "      <th>beta</th>\n",
       "      <th>N</th>\n",
       "      <th>n</th>\n",
       "      <th>h</th>\n",
       "      <th>c</th>\n",
       "      <th>mean_n</th>\n",
       "      <th>std_n</th>\n",
       "      <th>alpha_hat</th>\n",
       "      <th>beta_hat</th>\n",
       "      <th>u_star</th>\n",
       "      <th>u_star_hat</th>\n",
       "      <th>z</th>\n",
       "      <th>u</th>\n",
       "      <th>optimal_cost</th>\n",
       "      <th>actual_cost</th>\n",
       "      <th>intervals_str</th>\n",
       "    </tr>\n",
       "  </thead>\n",
       "  <tbody>\n",
       "    <tr>\n",
       "      <th>0</th>\n",
       "      <td>6</td>\n",
       "      <td>2</td>\n",
       "      <td>4</td>\n",
       "      <td>5</td>\n",
       "      <td>0.666667</td>\n",
       "      <td>20</td>\n",
       "      <td>12.443551</td>\n",
       "      <td>5.159124</td>\n",
       "      <td>6</td>\n",
       "      <td>2.138984</td>\n",
       "      <td>38.093382</td>\n",
       "      <td>41.275446</td>\n",
       "      <td>0.922907</td>\n",
       "      <td>27.047200</td>\n",
       "      <td>20.000000</td>\n",
       "      <td>20.000000</td>\n",
       "      <td>19.330937006565275_6.304903371950173_10.358245...</td>\n",
       "    </tr>\n",
       "    <tr>\n",
       "      <th>1</th>\n",
       "      <td>2</td>\n",
       "      <td>4</td>\n",
       "      <td>4</td>\n",
       "      <td>5</td>\n",
       "      <td>0.066667</td>\n",
       "      <td>30</td>\n",
       "      <td>8.348155</td>\n",
       "      <td>2.476622</td>\n",
       "      <td>11</td>\n",
       "      <td>0.734732</td>\n",
       "      <td>9.748366</td>\n",
       "      <td>20.340700</td>\n",
       "      <td>0.479254</td>\n",
       "      <td>38.173921</td>\n",
       "      <td>1.895037</td>\n",
       "      <td>1.188881</td>\n",
       "      <td>6.42533611970204_7.267416045547929_12.11888158...</td>\n",
       "    </tr>\n",
       "    <tr>\n",
       "      <th>2</th>\n",
       "      <td>8</td>\n",
       "      <td>6</td>\n",
       "      <td>3</td>\n",
       "      <td>5</td>\n",
       "      <td>0.666667</td>\n",
       "      <td>10</td>\n",
       "      <td>48.678803</td>\n",
       "      <td>16.972756</td>\n",
       "      <td>8</td>\n",
       "      <td>5.917862</td>\n",
       "      <td>216.726649</td>\n",
       "      <td>211.572577</td>\n",
       "      <td>1.024361</td>\n",
       "      <td>111.995762</td>\n",
       "      <td>10.000000</td>\n",
       "      <td>10.000000</td>\n",
       "      <td>20.79192862252269_56.65662483403159_64.4600453...</td>\n",
       "    </tr>\n",
       "    <tr>\n",
       "      <th>3</th>\n",
       "      <td>8</td>\n",
       "      <td>6</td>\n",
       "      <td>5</td>\n",
       "      <td>5</td>\n",
       "      <td>0.666667</td>\n",
       "      <td>20</td>\n",
       "      <td>39.532671</td>\n",
       "      <td>11.340199</td>\n",
       "      <td>12</td>\n",
       "      <td>3.253009</td>\n",
       "      <td>269.480306</td>\n",
       "      <td>195.829568</td>\n",
       "      <td>1.376096</td>\n",
       "      <td>228.044282</td>\n",
       "      <td>20.000000</td>\n",
       "      <td>21.476476</td>\n",
       "      <td>23.400532927359993_39.20904124992205_35.616708...</td>\n",
       "    </tr>\n",
       "    <tr>\n",
       "      <th>4</th>\n",
       "      <td>4</td>\n",
       "      <td>6</td>\n",
       "      <td>5</td>\n",
       "      <td>5</td>\n",
       "      <td>0.133333</td>\n",
       "      <td>30</td>\n",
       "      <td>21.104856</td>\n",
       "      <td>10.097073</td>\n",
       "      <td>4</td>\n",
       "      <td>4.830684</td>\n",
       "      <td>77.248992</td>\n",
       "      <td>60.195813</td>\n",
       "      <td>1.283295</td>\n",
       "      <td>123.206460</td>\n",
       "      <td>6.127662</td>\n",
       "      <td>8.401420</td>\n",
       "      <td>29.600895845585907_4.3327499423800635_23.08522...</td>\n",
       "    </tr>\n",
       "  </tbody>\n",
       "</table>\n",
       "</div>"
      ],
      "text/plain": [
       "   alpha  beta  N  n         h   c     mean_n      std_n  alpha_hat  beta_hat  \\\n",
       "0      6     2  4  5  0.666667  20  12.443551   5.159124          6  2.138984   \n",
       "1      2     4  4  5  0.066667  30   8.348155   2.476622         11  0.734732   \n",
       "2      8     6  3  5  0.666667  10  48.678803  16.972756          8  5.917862   \n",
       "3      8     6  5  5  0.666667  20  39.532671  11.340199         12  3.253009   \n",
       "4      4     6  5  5  0.133333  30  21.104856  10.097073          4  4.830684   \n",
       "\n",
       "       u_star  u_star_hat         z           u  optimal_cost  actual_cost  \\\n",
       "0   38.093382   41.275446  0.922907   27.047200     20.000000    20.000000   \n",
       "1    9.748366   20.340700  0.479254   38.173921      1.895037     1.188881   \n",
       "2  216.726649  211.572577  1.024361  111.995762     10.000000    10.000000   \n",
       "3  269.480306  195.829568  1.376096  228.044282     20.000000    21.476476   \n",
       "4   77.248992   60.195813  1.283295  123.206460      6.127662     8.401420   \n",
       "\n",
       "                                       intervals_str  \n",
       "0  19.330937006565275_6.304903371950173_10.358245...  \n",
       "1  6.42533611970204_7.267416045547929_12.11888158...  \n",
       "2  20.79192862252269_56.65662483403159_64.4600453...  \n",
       "3  23.400532927359993_39.20904124992205_35.616708...  \n",
       "4  29.600895845585907_4.3327499423800635_23.08522...  "
      ]
     },
     "metadata": {},
     "output_type": "display_data"
    },
    {
     "data": {
      "application/vnd.plotly.v1+json": {
       "config": {
        "plotlyServerURL": "https://plot.ly"
       },
       "data": [
        {
         "mode": "lines",
         "name": "Cost per iteration",
         "type": "scatter",
         "y": [
          20,
          1.188881457562796,
          10,
          21.476476079625947,
          8.401419550460037
         ]
        },
        {
         "line": {
          "color": "red",
          "dash": "dash"
         },
         "mode": "lines",
         "name": "Mean 12.21",
         "type": "scatter",
         "x": [
          0,
          4
         ],
         "y": [
          12.213355417529755,
          12.213355417529755
         ]
        },
        {
         "line": {
          "color": "green",
          "dash": "dash"
         },
         "mode": "lines",
         "name": "Median 10.00",
         "type": "scatter",
         "x": [
          0,
          4
         ],
         "y": [
          10,
          10
         ]
        }
       ],
       "layout": {
        "template": {
         "data": {
          "bar": [
           {
            "error_x": {
             "color": "#2a3f5f"
            },
            "error_y": {
             "color": "#2a3f5f"
            },
            "marker": {
             "line": {
              "color": "#E5ECF6",
              "width": 0.5
             },
             "pattern": {
              "fillmode": "overlay",
              "size": 10,
              "solidity": 0.2
             }
            },
            "type": "bar"
           }
          ],
          "barpolar": [
           {
            "marker": {
             "line": {
              "color": "#E5ECF6",
              "width": 0.5
             },
             "pattern": {
              "fillmode": "overlay",
              "size": 10,
              "solidity": 0.2
             }
            },
            "type": "barpolar"
           }
          ],
          "carpet": [
           {
            "aaxis": {
             "endlinecolor": "#2a3f5f",
             "gridcolor": "white",
             "linecolor": "white",
             "minorgridcolor": "white",
             "startlinecolor": "#2a3f5f"
            },
            "baxis": {
             "endlinecolor": "#2a3f5f",
             "gridcolor": "white",
             "linecolor": "white",
             "minorgridcolor": "white",
             "startlinecolor": "#2a3f5f"
            },
            "type": "carpet"
           }
          ],
          "choropleth": [
           {
            "colorbar": {
             "outlinewidth": 0,
             "ticks": ""
            },
            "type": "choropleth"
           }
          ],
          "contour": [
           {
            "colorbar": {
             "outlinewidth": 0,
             "ticks": ""
            },
            "colorscale": [
             [
              0,
              "#0d0887"
             ],
             [
              0.1111111111111111,
              "#46039f"
             ],
             [
              0.2222222222222222,
              "#7201a8"
             ],
             [
              0.3333333333333333,
              "#9c179e"
             ],
             [
              0.4444444444444444,
              "#bd3786"
             ],
             [
              0.5555555555555556,
              "#d8576b"
             ],
             [
              0.6666666666666666,
              "#ed7953"
             ],
             [
              0.7777777777777778,
              "#fb9f3a"
             ],
             [
              0.8888888888888888,
              "#fdca26"
             ],
             [
              1,
              "#f0f921"
             ]
            ],
            "type": "contour"
           }
          ],
          "contourcarpet": [
           {
            "colorbar": {
             "outlinewidth": 0,
             "ticks": ""
            },
            "type": "contourcarpet"
           }
          ],
          "heatmap": [
           {
            "colorbar": {
             "outlinewidth": 0,
             "ticks": ""
            },
            "colorscale": [
             [
              0,
              "#0d0887"
             ],
             [
              0.1111111111111111,
              "#46039f"
             ],
             [
              0.2222222222222222,
              "#7201a8"
             ],
             [
              0.3333333333333333,
              "#9c179e"
             ],
             [
              0.4444444444444444,
              "#bd3786"
             ],
             [
              0.5555555555555556,
              "#d8576b"
             ],
             [
              0.6666666666666666,
              "#ed7953"
             ],
             [
              0.7777777777777778,
              "#fb9f3a"
             ],
             [
              0.8888888888888888,
              "#fdca26"
             ],
             [
              1,
              "#f0f921"
             ]
            ],
            "type": "heatmap"
           }
          ],
          "heatmapgl": [
           {
            "colorbar": {
             "outlinewidth": 0,
             "ticks": ""
            },
            "colorscale": [
             [
              0,
              "#0d0887"
             ],
             [
              0.1111111111111111,
              "#46039f"
             ],
             [
              0.2222222222222222,
              "#7201a8"
             ],
             [
              0.3333333333333333,
              "#9c179e"
             ],
             [
              0.4444444444444444,
              "#bd3786"
             ],
             [
              0.5555555555555556,
              "#d8576b"
             ],
             [
              0.6666666666666666,
              "#ed7953"
             ],
             [
              0.7777777777777778,
              "#fb9f3a"
             ],
             [
              0.8888888888888888,
              "#fdca26"
             ],
             [
              1,
              "#f0f921"
             ]
            ],
            "type": "heatmapgl"
           }
          ],
          "histogram": [
           {
            "marker": {
             "pattern": {
              "fillmode": "overlay",
              "size": 10,
              "solidity": 0.2
             }
            },
            "type": "histogram"
           }
          ],
          "histogram2d": [
           {
            "colorbar": {
             "outlinewidth": 0,
             "ticks": ""
            },
            "colorscale": [
             [
              0,
              "#0d0887"
             ],
             [
              0.1111111111111111,
              "#46039f"
             ],
             [
              0.2222222222222222,
              "#7201a8"
             ],
             [
              0.3333333333333333,
              "#9c179e"
             ],
             [
              0.4444444444444444,
              "#bd3786"
             ],
             [
              0.5555555555555556,
              "#d8576b"
             ],
             [
              0.6666666666666666,
              "#ed7953"
             ],
             [
              0.7777777777777778,
              "#fb9f3a"
             ],
             [
              0.8888888888888888,
              "#fdca26"
             ],
             [
              1,
              "#f0f921"
             ]
            ],
            "type": "histogram2d"
           }
          ],
          "histogram2dcontour": [
           {
            "colorbar": {
             "outlinewidth": 0,
             "ticks": ""
            },
            "colorscale": [
             [
              0,
              "#0d0887"
             ],
             [
              0.1111111111111111,
              "#46039f"
             ],
             [
              0.2222222222222222,
              "#7201a8"
             ],
             [
              0.3333333333333333,
              "#9c179e"
             ],
             [
              0.4444444444444444,
              "#bd3786"
             ],
             [
              0.5555555555555556,
              "#d8576b"
             ],
             [
              0.6666666666666666,
              "#ed7953"
             ],
             [
              0.7777777777777778,
              "#fb9f3a"
             ],
             [
              0.8888888888888888,
              "#fdca26"
             ],
             [
              1,
              "#f0f921"
             ]
            ],
            "type": "histogram2dcontour"
           }
          ],
          "mesh3d": [
           {
            "colorbar": {
             "outlinewidth": 0,
             "ticks": ""
            },
            "type": "mesh3d"
           }
          ],
          "parcoords": [
           {
            "line": {
             "colorbar": {
              "outlinewidth": 0,
              "ticks": ""
             }
            },
            "type": "parcoords"
           }
          ],
          "pie": [
           {
            "automargin": true,
            "type": "pie"
           }
          ],
          "scatter": [
           {
            "fillpattern": {
             "fillmode": "overlay",
             "size": 10,
             "solidity": 0.2
            },
            "type": "scatter"
           }
          ],
          "scatter3d": [
           {
            "line": {
             "colorbar": {
              "outlinewidth": 0,
              "ticks": ""
             }
            },
            "marker": {
             "colorbar": {
              "outlinewidth": 0,
              "ticks": ""
             }
            },
            "type": "scatter3d"
           }
          ],
          "scattercarpet": [
           {
            "marker": {
             "colorbar": {
              "outlinewidth": 0,
              "ticks": ""
             }
            },
            "type": "scattercarpet"
           }
          ],
          "scattergeo": [
           {
            "marker": {
             "colorbar": {
              "outlinewidth": 0,
              "ticks": ""
             }
            },
            "type": "scattergeo"
           }
          ],
          "scattergl": [
           {
            "marker": {
             "colorbar": {
              "outlinewidth": 0,
              "ticks": ""
             }
            },
            "type": "scattergl"
           }
          ],
          "scattermapbox": [
           {
            "marker": {
             "colorbar": {
              "outlinewidth": 0,
              "ticks": ""
             }
            },
            "type": "scattermapbox"
           }
          ],
          "scatterpolar": [
           {
            "marker": {
             "colorbar": {
              "outlinewidth": 0,
              "ticks": ""
             }
            },
            "type": "scatterpolar"
           }
          ],
          "scatterpolargl": [
           {
            "marker": {
             "colorbar": {
              "outlinewidth": 0,
              "ticks": ""
             }
            },
            "type": "scatterpolargl"
           }
          ],
          "scatterternary": [
           {
            "marker": {
             "colorbar": {
              "outlinewidth": 0,
              "ticks": ""
             }
            },
            "type": "scatterternary"
           }
          ],
          "surface": [
           {
            "colorbar": {
             "outlinewidth": 0,
             "ticks": ""
            },
            "colorscale": [
             [
              0,
              "#0d0887"
             ],
             [
              0.1111111111111111,
              "#46039f"
             ],
             [
              0.2222222222222222,
              "#7201a8"
             ],
             [
              0.3333333333333333,
              "#9c179e"
             ],
             [
              0.4444444444444444,
              "#bd3786"
             ],
             [
              0.5555555555555556,
              "#d8576b"
             ],
             [
              0.6666666666666666,
              "#ed7953"
             ],
             [
              0.7777777777777778,
              "#fb9f3a"
             ],
             [
              0.8888888888888888,
              "#fdca26"
             ],
             [
              1,
              "#f0f921"
             ]
            ],
            "type": "surface"
           }
          ],
          "table": [
           {
            "cells": {
             "fill": {
              "color": "#EBF0F8"
             },
             "line": {
              "color": "white"
             }
            },
            "header": {
             "fill": {
              "color": "#C8D4E3"
             },
             "line": {
              "color": "white"
             }
            },
            "type": "table"
           }
          ]
         },
         "layout": {
          "annotationdefaults": {
           "arrowcolor": "#2a3f5f",
           "arrowhead": 0,
           "arrowwidth": 1
          },
          "autotypenumbers": "strict",
          "coloraxis": {
           "colorbar": {
            "outlinewidth": 0,
            "ticks": ""
           }
          },
          "colorscale": {
           "diverging": [
            [
             0,
             "#8e0152"
            ],
            [
             0.1,
             "#c51b7d"
            ],
            [
             0.2,
             "#de77ae"
            ],
            [
             0.3,
             "#f1b6da"
            ],
            [
             0.4,
             "#fde0ef"
            ],
            [
             0.5,
             "#f7f7f7"
            ],
            [
             0.6,
             "#e6f5d0"
            ],
            [
             0.7,
             "#b8e186"
            ],
            [
             0.8,
             "#7fbc41"
            ],
            [
             0.9,
             "#4d9221"
            ],
            [
             1,
             "#276419"
            ]
           ],
           "sequential": [
            [
             0,
             "#0d0887"
            ],
            [
             0.1111111111111111,
             "#46039f"
            ],
            [
             0.2222222222222222,
             "#7201a8"
            ],
            [
             0.3333333333333333,
             "#9c179e"
            ],
            [
             0.4444444444444444,
             "#bd3786"
            ],
            [
             0.5555555555555556,
             "#d8576b"
            ],
            [
             0.6666666666666666,
             "#ed7953"
            ],
            [
             0.7777777777777778,
             "#fb9f3a"
            ],
            [
             0.8888888888888888,
             "#fdca26"
            ],
            [
             1,
             "#f0f921"
            ]
           ],
           "sequentialminus": [
            [
             0,
             "#0d0887"
            ],
            [
             0.1111111111111111,
             "#46039f"
            ],
            [
             0.2222222222222222,
             "#7201a8"
            ],
            [
             0.3333333333333333,
             "#9c179e"
            ],
            [
             0.4444444444444444,
             "#bd3786"
            ],
            [
             0.5555555555555556,
             "#d8576b"
            ],
            [
             0.6666666666666666,
             "#ed7953"
            ],
            [
             0.7777777777777778,
             "#fb9f3a"
            ],
            [
             0.8888888888888888,
             "#fdca26"
            ],
            [
             1,
             "#f0f921"
            ]
           ]
          },
          "colorway": [
           "#636efa",
           "#EF553B",
           "#00cc96",
           "#ab63fa",
           "#FFA15A",
           "#19d3f3",
           "#FF6692",
           "#B6E880",
           "#FF97FF",
           "#FECB52"
          ],
          "font": {
           "color": "#2a3f5f"
          },
          "geo": {
           "bgcolor": "white",
           "lakecolor": "white",
           "landcolor": "#E5ECF6",
           "showlakes": true,
           "showland": true,
           "subunitcolor": "white"
          },
          "hoverlabel": {
           "align": "left"
          },
          "hovermode": "closest",
          "mapbox": {
           "style": "light"
          },
          "paper_bgcolor": "white",
          "plot_bgcolor": "#E5ECF6",
          "polar": {
           "angularaxis": {
            "gridcolor": "white",
            "linecolor": "white",
            "ticks": ""
           },
           "bgcolor": "#E5ECF6",
           "radialaxis": {
            "gridcolor": "white",
            "linecolor": "white",
            "ticks": ""
           }
          },
          "scene": {
           "xaxis": {
            "backgroundcolor": "#E5ECF6",
            "gridcolor": "white",
            "gridwidth": 2,
            "linecolor": "white",
            "showbackground": true,
            "ticks": "",
            "zerolinecolor": "white"
           },
           "yaxis": {
            "backgroundcolor": "#E5ECF6",
            "gridcolor": "white",
            "gridwidth": 2,
            "linecolor": "white",
            "showbackground": true,
            "ticks": "",
            "zerolinecolor": "white"
           },
           "zaxis": {
            "backgroundcolor": "#E5ECF6",
            "gridcolor": "white",
            "gridwidth": 2,
            "linecolor": "white",
            "showbackground": true,
            "ticks": "",
            "zerolinecolor": "white"
           }
          },
          "shapedefaults": {
           "line": {
            "color": "#2a3f5f"
           }
          },
          "ternary": {
           "aaxis": {
            "gridcolor": "white",
            "linecolor": "white",
            "ticks": ""
           },
           "baxis": {
            "gridcolor": "white",
            "linecolor": "white",
            "ticks": ""
           },
           "bgcolor": "#E5ECF6",
           "caxis": {
            "gridcolor": "white",
            "linecolor": "white",
            "ticks": ""
           }
          },
          "title": {
           "x": 0.05
          },
          "xaxis": {
           "automargin": true,
           "gridcolor": "white",
           "linecolor": "white",
           "ticks": "",
           "title": {
            "standoff": 15
           },
           "zerolinecolor": "white",
           "zerolinewidth": 2
          },
          "yaxis": {
           "automargin": true,
           "gridcolor": "white",
           "linecolor": "white",
           "ticks": "",
           "title": {
            "standoff": 15
           },
           "zerolinecolor": "white",
           "zerolinewidth": 2
          }
         }
        },
        "title": {
         "text": "Cost over 5 iterations"
        },
        "xaxis": {
         "title": {
          "text": "Iteration"
         }
        },
        "yaxis": {
         "title": {
          "text": "Cost"
         }
        }
       }
      }
     },
     "metadata": {},
     "output_type": "display_data"
    }
   ],
   "source": [
    "display(df.head())\n",
    "methods.plot_plotly(data=df['actual_cost'], data_label='Cost')"
   ]
  },
  {
   "cell_type": "code",
   "execution_count": 6,
   "metadata": {},
   "outputs": [],
   "source": [
    "df.to_csv('../data/gen_data.csv', index=False)"
   ]
  }
 ],
 "metadata": {
  "kernelspec": {
   "display_name": "mlClass",
   "language": "python",
   "name": "python3"
  },
  "language_info": {
   "codemirror_mode": {
    "name": "ipython",
    "version": 3
   },
   "file_extension": ".py",
   "mimetype": "text/x-python",
   "name": "python",
   "nbconvert_exporter": "python",
   "pygments_lexer": "ipython3",
   "version": "3.12.1"
  }
 },
 "nbformat": 4,
 "nbformat_minor": 2
}
