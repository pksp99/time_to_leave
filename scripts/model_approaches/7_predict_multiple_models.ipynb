{
 "cells": [
  {
   "cell_type": "code",
   "execution_count": 1,
   "metadata": {
    "ExecuteTime": {
     "end_time": "2024-08-14T22:01:56.868714Z",
     "start_time": "2024-08-14T22:01:56.822438Z"
    }
   },
   "outputs": [],
   "source": [
    "\n",
    "\n",
    "import numpy as np\n",
    "import pandas as pd\n",
    "import math\n",
    "import statistics\n",
    "import random\n",
    "import importlib\n",
    "\n",
    "from sklearn.model_selection import train_test_split\n",
    "from sklearn.linear_model import LinearRegression\n",
    "from sklearn.ensemble import RandomForestRegressor, GradientBoostingRegressor\n",
    "\n",
    "from utils import math_expressions as mexpr, methods"
   ]
  },
  {
   "cell_type": "code",
   "execution_count": 2,
   "metadata": {
    "ExecuteTime": {
     "end_time": "2024-08-14T22:01:56.912712Z",
     "start_time": "2024-08-14T22:01:56.826874Z"
    }
   },
   "outputs": [],
   "source": [
    "train_df = pd.read_csv('../../data/gen_train_v3.csv')\n",
    "test_df = pd.read_csv('../../data/gen_test_v3.csv')"
   ]
  },
  {
   "cell_type": "code",
   "execution_count": 3,
   "metadata": {
    "ExecuteTime": {
     "end_time": "2024-08-14T22:01:56.913195Z",
     "start_time": "2024-08-14T22:01:56.899827Z"
    }
   },
   "outputs": [
    {
     "data": {
      "text/html": [
       "<div>\n",
       "<style scoped>\n",
       "    .dataframe tbody tr th:only-of-type {\n",
       "        vertical-align: middle;\n",
       "    }\n",
       "\n",
       "    .dataframe tbody tr th {\n",
       "        vertical-align: top;\n",
       "    }\n",
       "\n",
       "    .dataframe thead th {\n",
       "        text-align: right;\n",
       "    }\n",
       "</style>\n",
       "<table border=\"1\" class=\"dataframe\">\n",
       "  <thead>\n",
       "    <tr style=\"text-align: right;\">\n",
       "      <th></th>\n",
       "      <th>alpha</th>\n",
       "      <th>beta</th>\n",
       "      <th>h</th>\n",
       "      <th>c</th>\n",
       "      <th>N</th>\n",
       "      <th>n</th>\n",
       "      <th>mean_n</th>\n",
       "      <th>std_n</th>\n",
       "      <th>alpha_hat</th>\n",
       "      <th>beta_hat</th>\n",
       "      <th>intervals_str</th>\n",
       "      <th>u</th>\n",
       "      <th>u_star</th>\n",
       "      <th>u_star_hat</th>\n",
       "      <th>z</th>\n",
       "      <th>optimal_cost</th>\n",
       "      <th>actual_cost</th>\n",
       "    </tr>\n",
       "  </thead>\n",
       "  <tbody>\n",
       "    <tr>\n",
       "      <th>0</th>\n",
       "      <td>2</td>\n",
       "      <td>3.0</td>\n",
       "      <td>0.066667</td>\n",
       "      <td>25</td>\n",
       "      <td>17</td>\n",
       "      <td>5</td>\n",
       "      <td>8.233253</td>\n",
       "      <td>2.069397</td>\n",
       "      <td>15.829059</td>\n",
       "      <td>0.520135</td>\n",
       "      <td>8.420891851905406_11.662053997433222_6.8728631...</td>\n",
       "      <td>91.612225</td>\n",
       "      <td>67.285668</td>\n",
       "      <td>120.014121</td>\n",
       "      <td>0.560648</td>\n",
       "      <td>1.621770</td>\n",
       "      <td>25.0</td>\n",
       "    </tr>\n",
       "    <tr>\n",
       "      <th>1</th>\n",
       "      <td>6</td>\n",
       "      <td>1.0</td>\n",
       "      <td>0.066667</td>\n",
       "      <td>25</td>\n",
       "      <td>11</td>\n",
       "      <td>5</td>\n",
       "      <td>7.474739</td>\n",
       "      <td>1.073942</td>\n",
       "      <td>48.442932</td>\n",
       "      <td>0.154300</td>\n",
       "      <td>7.60249029088337_9.23720132135181_6.7619471323...</td>\n",
       "      <td>67.684060</td>\n",
       "      <td>47.397612</td>\n",
       "      <td>72.714685</td>\n",
       "      <td>0.651830</td>\n",
       "      <td>1.352430</td>\n",
       "      <td>25.0</td>\n",
       "    </tr>\n",
       "    <tr>\n",
       "      <th>2</th>\n",
       "      <td>2</td>\n",
       "      <td>1.5</td>\n",
       "      <td>0.066667</td>\n",
       "      <td>25</td>\n",
       "      <td>21</td>\n",
       "      <td>5</td>\n",
       "      <td>4.116626</td>\n",
       "      <td>1.034699</td>\n",
       "      <td>15.829059</td>\n",
       "      <td>0.260068</td>\n",
       "      <td>4.210445925952703_5.831026998716611_3.43643159...</td>\n",
       "      <td>58.965697</td>\n",
       "      <td>41.634662</td>\n",
       "      <td>74.332600</td>\n",
       "      <td>0.560113</td>\n",
       "      <td>1.155402</td>\n",
       "      <td>25.0</td>\n",
       "    </tr>\n",
       "    <tr>\n",
       "      <th>3</th>\n",
       "      <td>2</td>\n",
       "      <td>2.0</td>\n",
       "      <td>0.066667</td>\n",
       "      <td>25</td>\n",
       "      <td>15</td>\n",
       "      <td>5</td>\n",
       "      <td>5.488835</td>\n",
       "      <td>1.379598</td>\n",
       "      <td>15.829059</td>\n",
       "      <td>0.346757</td>\n",
       "      <td>5.613927901270271_7.774702664955481_4.58190879...</td>\n",
       "      <td>55.366589</td>\n",
       "      <td>36.653414</td>\n",
       "      <td>68.969431</td>\n",
       "      <td>0.531444</td>\n",
       "      <td>1.247545</td>\n",
       "      <td>25.0</td>\n",
       "    </tr>\n",
       "    <tr>\n",
       "      <th>4</th>\n",
       "      <td>2</td>\n",
       "      <td>3.5</td>\n",
       "      <td>0.066667</td>\n",
       "      <td>25</td>\n",
       "      <td>20</td>\n",
       "      <td>5</td>\n",
       "      <td>9.605462</td>\n",
       "      <td>2.414297</td>\n",
       "      <td>15.829059</td>\n",
       "      <td>0.606825</td>\n",
       "      <td>9.824373827222974_13.605729663672092_8.0183403...</td>\n",
       "      <td>131.695899</td>\n",
       "      <td>97.847747</td>\n",
       "      <td>167.788954</td>\n",
       "      <td>0.583160</td>\n",
       "      <td>2.256543</td>\n",
       "      <td>25.0</td>\n",
       "    </tr>\n",
       "  </tbody>\n",
       "</table>\n",
       "</div>"
      ],
      "text/plain": [
       "   alpha  beta         h   c   N  n    mean_n     std_n  alpha_hat  beta_hat  \\\n",
       "0      2   3.0  0.066667  25  17  5  8.233253  2.069397  15.829059  0.520135   \n",
       "1      6   1.0  0.066667  25  11  5  7.474739  1.073942  48.442932  0.154300   \n",
       "2      2   1.5  0.066667  25  21  5  4.116626  1.034699  15.829059  0.260068   \n",
       "3      2   2.0  0.066667  25  15  5  5.488835  1.379598  15.829059  0.346757   \n",
       "4      2   3.5  0.066667  25  20  5  9.605462  2.414297  15.829059  0.606825   \n",
       "\n",
       "                                       intervals_str           u     u_star  \\\n",
       "0  8.420891851905406_11.662053997433222_6.8728631...   91.612225  67.285668   \n",
       "1  7.60249029088337_9.23720132135181_6.7619471323...   67.684060  47.397612   \n",
       "2  4.210445925952703_5.831026998716611_3.43643159...   58.965697  41.634662   \n",
       "3  5.613927901270271_7.774702664955481_4.58190879...   55.366589  36.653414   \n",
       "4  9.824373827222974_13.605729663672092_8.0183403...  131.695899  97.847747   \n",
       "\n",
       "   u_star_hat         z  optimal_cost  actual_cost  \n",
       "0  120.014121  0.560648      1.621770         25.0  \n",
       "1   72.714685  0.651830      1.352430         25.0  \n",
       "2   74.332600  0.560113      1.155402         25.0  \n",
       "3   68.969431  0.531444      1.247545         25.0  \n",
       "4  167.788954  0.583160      2.256543         25.0  "
      ]
     },
     "execution_count": 3,
     "metadata": {},
     "output_type": "execute_result"
    }
   ],
   "source": [
    "train_df.head()"
   ]
  },
  {
   "cell_type": "markdown",
   "metadata": {},
   "source": [
    "## Average Model"
   ]
  },
  {
   "cell_type": "code",
   "execution_count": 4,
   "metadata": {
    "ExecuteTime": {
     "end_time": "2024-08-14T22:01:57.018172Z",
     "start_time": "2024-08-14T22:01:56.903136Z"
    }
   },
   "outputs": [
    {
     "name": "stdout",
     "output_type": "stream",
     "text": [
      "Actual Mean cost: 14.24, Actual Median cost: 14.58\n",
      "Optimal Mean cost: 4.36, Optimal Median cost: 3.17\n"
     ]
    }
   ],
   "source": [
    "test_df['actual_cost'] = test_df.apply(lambda row: methods.cal_cost(row['c'], row['h'], row['u'], row['mean_n'] * row['N']), axis=1)\n",
    "print(f'Actual Mean cost: {test_df['actual_cost'].mean():.2f}, Actual Median cost: {test_df['actual_cost'].median():.2f}')\n",
    "print(f'Optimal Mean cost: {test_df['optimal_cost'].mean():.2f}, Optimal Median cost: {test_df['optimal_cost'].median():.2f}')"
   ]
  },
  {
   "cell_type": "markdown",
   "metadata": {
    "collapsed": false
   },
   "source": [
    "## Estimated u* from alpha_hat and beta_hat"
   ]
  },
  {
   "cell_type": "code",
   "execution_count": 5,
   "metadata": {
    "ExecuteTime": {
     "end_time": "2024-08-14T22:01:57.059032Z",
     "start_time": "2024-08-14T22:01:56.955148Z"
    },
    "collapsed": false
   },
   "outputs": [
    {
     "name": "stdout",
     "output_type": "stream",
     "text": [
      "Actual Mean cost: 9.64, Actual Median cost: 5.55\n",
      "Optimal Mean cost: 4.36, Optimal Median cost: 3.17\n"
     ]
    }
   ],
   "source": [
    "test_df['actual_cost'] = test_df.apply(lambda row: methods.cal_cost(row['c'], row['h'], row['u'], row['u_star_hat']), axis=1)\n",
    "print(f'Actual Mean cost: {test_df['actual_cost'].mean():.2f}, Actual Median cost: {test_df['actual_cost'].median():.2f}')\n",
    "print(f'Optimal Mean cost: {test_df['optimal_cost'].mean():.2f}, Optimal Median cost: {test_df['optimal_cost'].median():.2f}')"
   ]
  },
  {
   "cell_type": "markdown",
   "metadata": {
    "collapsed": false
   },
   "source": [
    "## Train and Test for *u_star*"
   ]
  },
  {
   "cell_type": "code",
   "execution_count": 6,
   "metadata": {
    "ExecuteTime": {
     "end_time": "2024-08-14T22:01:57.059244Z",
     "start_time": "2024-08-14T22:01:57.024601Z"
    },
    "collapsed": false
   },
   "outputs": [],
   "source": [
    "X_train = train_df[['N', 'n', 'h', 'c', 'mean_n', 'std_n', 'alpha_hat', 'beta_hat', 'u_star_hat']]\n",
    "y_train = train_df['u_star']\n",
    "\n",
    "X_test = test_df[['N', 'n', 'h', 'c', 'mean_n', 'std_n', 'alpha_hat', 'beta_hat', 'u_star_hat']]\n",
    "y_test = test_df['u_star']\n"
   ]
  },
  {
   "cell_type": "markdown",
   "metadata": {
    "collapsed": false
   },
   "source": [
    "## Linear Model for u_star"
   ]
  },
  {
   "cell_type": "code",
   "execution_count": 7,
   "metadata": {
    "ExecuteTime": {
     "end_time": "2024-08-14T22:01:57.244573Z",
     "start_time": "2024-08-14T22:01:57.032019Z"
    },
    "collapsed": false
   },
   "outputs": [
    {
     "name": "stdout",
     "output_type": "stream",
     "text": [
      "linear_model train accuracy: 93.21%\n",
      "linear_model test accuracy: 89.46%\n"
     ]
    },
    {
     "data": {
      "text/html": [
       "<div>\n",
       "<style scoped>\n",
       "    .dataframe tbody tr th:only-of-type {\n",
       "        vertical-align: middle;\n",
       "    }\n",
       "\n",
       "    .dataframe tbody tr th {\n",
       "        vertical-align: top;\n",
       "    }\n",
       "\n",
       "    .dataframe thead th {\n",
       "        text-align: right;\n",
       "    }\n",
       "</style>\n",
       "<table border=\"1\" class=\"dataframe\">\n",
       "  <thead>\n",
       "    <tr style=\"text-align: right;\">\n",
       "      <th></th>\n",
       "      <th>Feature</th>\n",
       "      <th>Coefficient</th>\n",
       "    </tr>\n",
       "  </thead>\n",
       "  <tbody>\n",
       "    <tr>\n",
       "      <th>0</th>\n",
       "      <td>N</td>\n",
       "      <td>1.0177</td>\n",
       "    </tr>\n",
       "    <tr>\n",
       "      <th>1</th>\n",
       "      <td>n</td>\n",
       "      <td>0.0000</td>\n",
       "    </tr>\n",
       "    <tr>\n",
       "      <th>2</th>\n",
       "      <td>h</td>\n",
       "      <td>0.0000</td>\n",
       "    </tr>\n",
       "    <tr>\n",
       "      <th>3</th>\n",
       "      <td>c</td>\n",
       "      <td>0.0000</td>\n",
       "    </tr>\n",
       "    <tr>\n",
       "      <th>4</th>\n",
       "      <td>mean_n</td>\n",
       "      <td>-0.4723</td>\n",
       "    </tr>\n",
       "    <tr>\n",
       "      <th>5</th>\n",
       "      <td>std_n</td>\n",
       "      <td>3.6572</td>\n",
       "    </tr>\n",
       "    <tr>\n",
       "      <th>6</th>\n",
       "      <td>alpha_hat</td>\n",
       "      <td>-0.1958</td>\n",
       "    </tr>\n",
       "    <tr>\n",
       "      <th>7</th>\n",
       "      <td>beta_hat</td>\n",
       "      <td>-5.5416</td>\n",
       "    </tr>\n",
       "    <tr>\n",
       "      <th>8</th>\n",
       "      <td>u_star_hat</td>\n",
       "      <td>0.9120</td>\n",
       "    </tr>\n",
       "  </tbody>\n",
       "</table>\n",
       "</div>"
      ],
      "text/plain": [
       "      Feature  Coefficient\n",
       "0           N       1.0177\n",
       "1           n       0.0000\n",
       "2           h       0.0000\n",
       "3           c       0.0000\n",
       "4      mean_n      -0.4723\n",
       "5       std_n       3.6572\n",
       "6   alpha_hat      -0.1958\n",
       "7    beta_hat      -5.5416\n",
       "8  u_star_hat       0.9120"
      ]
     },
     "metadata": {},
     "output_type": "display_data"
    },
    {
     "name": "stdout",
     "output_type": "stream",
     "text": [
      "Actual Mean cost: 9.74, Actual Median cost: 5.78\n",
      "Optimal Mean cost: 4.36, Optimal Median cost: 3.17\n"
     ]
    }
   ],
   "source": [
    "linear_model = LinearRegression()\n",
    "\n",
    "linear_model.fit(X_train, y_train)\n",
    "print(f'linear_model train accuracy: {linear_model.score(X_train, y_train):.2%}')\n",
    "print(f'linear_model test accuracy: {linear_model.score(X_test, y_test):.2%}')\n",
    "coef_df = pd.DataFrame({'Feature': X_train.columns, 'Coefficient': np.round(linear_model.coef_, 4)})\n",
    "display(coef_df)\n",
    "\n",
    "test_df['predicted_u_star'] = linear_model.predict(X_test)\n",
    "test_df['actual_cost'] = test_df.apply(lambda row: methods.cal_cost(row['c'], row['h'], row['u'], row['predicted_u_star']), axis=1)\n",
    "print(f'Actual Mean cost: {test_df['actual_cost'].mean():.2f}, Actual Median cost: {test_df['actual_cost'].median():.2f}')\n",
    "print(f'Optimal Mean cost: {test_df['optimal_cost'].mean():.2f}, Optimal Median cost: {test_df['optimal_cost'].median():.2f}')"
   ]
  },
  {
   "cell_type": "markdown",
   "metadata": {
    "collapsed": false
   },
   "source": [
    "## Random Forest for u_star"
   ]
  },
  {
   "cell_type": "code",
   "execution_count": 8,
   "metadata": {
    "ExecuteTime": {
     "end_time": "2024-08-14T22:01:58.826009Z",
     "start_time": "2024-08-14T22:01:57.208457Z"
    },
    "collapsed": false
   },
   "outputs": [
    {
     "name": "stdout",
     "output_type": "stream",
     "text": [
      "random_forest_model train accuracy: 98.05%\n",
      "random_forest_model test accuracy: 88.03%\n"
     ]
    },
    {
     "data": {
      "text/html": [
       "<div>\n",
       "<style scoped>\n",
       "    .dataframe tbody tr th:only-of-type {\n",
       "        vertical-align: middle;\n",
       "    }\n",
       "\n",
       "    .dataframe tbody tr th {\n",
       "        vertical-align: top;\n",
       "    }\n",
       "\n",
       "    .dataframe thead th {\n",
       "        text-align: right;\n",
       "    }\n",
       "</style>\n",
       "<table border=\"1\" class=\"dataframe\">\n",
       "  <thead>\n",
       "    <tr style=\"text-align: right;\">\n",
       "      <th></th>\n",
       "      <th>Feature</th>\n",
       "      <th>Importance</th>\n",
       "    </tr>\n",
       "  </thead>\n",
       "  <tbody>\n",
       "    <tr>\n",
       "      <th>0</th>\n",
       "      <td>N</td>\n",
       "      <td>0.0879</td>\n",
       "    </tr>\n",
       "    <tr>\n",
       "      <th>1</th>\n",
       "      <td>n</td>\n",
       "      <td>0.0000</td>\n",
       "    </tr>\n",
       "    <tr>\n",
       "      <th>2</th>\n",
       "      <td>h</td>\n",
       "      <td>0.0000</td>\n",
       "    </tr>\n",
       "    <tr>\n",
       "      <th>3</th>\n",
       "      <td>c</td>\n",
       "      <td>0.0000</td>\n",
       "    </tr>\n",
       "    <tr>\n",
       "      <th>4</th>\n",
       "      <td>mean_n</td>\n",
       "      <td>0.2383</td>\n",
       "    </tr>\n",
       "    <tr>\n",
       "      <th>5</th>\n",
       "      <td>std_n</td>\n",
       "      <td>0.1073</td>\n",
       "    </tr>\n",
       "    <tr>\n",
       "      <th>6</th>\n",
       "      <td>alpha_hat</td>\n",
       "      <td>0.0311</td>\n",
       "    </tr>\n",
       "    <tr>\n",
       "      <th>7</th>\n",
       "      <td>beta_hat</td>\n",
       "      <td>0.0251</td>\n",
       "    </tr>\n",
       "    <tr>\n",
       "      <th>8</th>\n",
       "      <td>u_star_hat</td>\n",
       "      <td>0.5103</td>\n",
       "    </tr>\n",
       "  </tbody>\n",
       "</table>\n",
       "</div>"
      ],
      "text/plain": [
       "      Feature  Importance\n",
       "0           N      0.0879\n",
       "1           n      0.0000\n",
       "2           h      0.0000\n",
       "3           c      0.0000\n",
       "4      mean_n      0.2383\n",
       "5       std_n      0.1073\n",
       "6   alpha_hat      0.0311\n",
       "7    beta_hat      0.0251\n",
       "8  u_star_hat      0.5103"
      ]
     },
     "metadata": {},
     "output_type": "display_data"
    },
    {
     "name": "stdout",
     "output_type": "stream",
     "text": [
      "Actual Mean cost: 9.98, Actual Median cost: 5.91\n",
      "Optimal Mean cost: 4.36, Optimal Median cost: 3.17\n"
     ]
    }
   ],
   "source": [
    "random_forest_model = RandomForestRegressor(random_state=50, max_features='sqrt', n_estimators=200, min_samples_leaf=2)\n",
    "\n",
    "random_forest_model.fit(X_train, y_train)\n",
    "print(f'random_forest_model train accuracy: {random_forest_model.score(X_train, y_train):.2%}')\n",
    "print(f'random_forest_model test accuracy: {random_forest_model.score(X_test, y_test):.2%}')\n",
    "coef_df = pd.DataFrame({'Feature': X_train.columns, 'Importance': np.round(random_forest_model.feature_importances_, 4)})\n",
    "display(coef_df)\n",
    "\n",
    "test_df['predicted_u_star'] = random_forest_model.predict(X_test)\n",
    "test_df['actual_cost'] = test_df.apply(lambda row: methods.cal_cost(row['c'], row['h'], row['u'], row['predicted_u_star']), axis=1)\n",
    "print(f'Actual Mean cost: {test_df['actual_cost'].mean():.2f}, Actual Median cost: {test_df['actual_cost'].median():.2f}')\n",
    "print(f'Optimal Mean cost: {test_df['optimal_cost'].mean():.2f}, Optimal Median cost: {test_df['optimal_cost'].median():.2f}')"
   ]
  },
  {
   "cell_type": "markdown",
   "metadata": {
    "collapsed": false
   },
   "source": [
    "## Gradient Boost for u_star"
   ]
  },
  {
   "cell_type": "code",
   "execution_count": 9,
   "metadata": {
    "ExecuteTime": {
     "end_time": "2024-08-14T22:02:00.186294Z",
     "start_time": "2024-08-14T22:01:58.827206Z"
    },
    "collapsed": false
   },
   "outputs": [
    {
     "name": "stdout",
     "output_type": "stream",
     "text": [
      "gradient_boost_model train accuracy: 94.53%\n",
      "gradient_boost_model test accuracy: 88.78%\n"
     ]
    },
    {
     "data": {
      "text/html": [
       "<div>\n",
       "<style scoped>\n",
       "    .dataframe tbody tr th:only-of-type {\n",
       "        vertical-align: middle;\n",
       "    }\n",
       "\n",
       "    .dataframe tbody tr th {\n",
       "        vertical-align: top;\n",
       "    }\n",
       "\n",
       "    .dataframe thead th {\n",
       "        text-align: right;\n",
       "    }\n",
       "</style>\n",
       "<table border=\"1\" class=\"dataframe\">\n",
       "  <thead>\n",
       "    <tr style=\"text-align: right;\">\n",
       "      <th></th>\n",
       "      <th>Feature</th>\n",
       "      <th>Importance</th>\n",
       "    </tr>\n",
       "  </thead>\n",
       "  <tbody>\n",
       "    <tr>\n",
       "      <th>0</th>\n",
       "      <td>N</td>\n",
       "      <td>0.0049</td>\n",
       "    </tr>\n",
       "    <tr>\n",
       "      <th>1</th>\n",
       "      <td>n</td>\n",
       "      <td>0.0000</td>\n",
       "    </tr>\n",
       "    <tr>\n",
       "      <th>2</th>\n",
       "      <td>h</td>\n",
       "      <td>0.0000</td>\n",
       "    </tr>\n",
       "    <tr>\n",
       "      <th>3</th>\n",
       "      <td>c</td>\n",
       "      <td>0.0000</td>\n",
       "    </tr>\n",
       "    <tr>\n",
       "      <th>4</th>\n",
       "      <td>mean_n</td>\n",
       "      <td>0.0021</td>\n",
       "    </tr>\n",
       "    <tr>\n",
       "      <th>5</th>\n",
       "      <td>std_n</td>\n",
       "      <td>0.0011</td>\n",
       "    </tr>\n",
       "    <tr>\n",
       "      <th>6</th>\n",
       "      <td>alpha_hat</td>\n",
       "      <td>0.0027</td>\n",
       "    </tr>\n",
       "    <tr>\n",
       "      <th>7</th>\n",
       "      <td>beta_hat</td>\n",
       "      <td>0.0009</td>\n",
       "    </tr>\n",
       "    <tr>\n",
       "      <th>8</th>\n",
       "      <td>u_star_hat</td>\n",
       "      <td>0.9883</td>\n",
       "    </tr>\n",
       "  </tbody>\n",
       "</table>\n",
       "</div>"
      ],
      "text/plain": [
       "      Feature  Importance\n",
       "0           N      0.0049\n",
       "1           n      0.0000\n",
       "2           h      0.0000\n",
       "3           c      0.0000\n",
       "4      mean_n      0.0021\n",
       "5       std_n      0.0011\n",
       "6   alpha_hat      0.0027\n",
       "7    beta_hat      0.0009\n",
       "8  u_star_hat      0.9883"
      ]
     },
     "metadata": {},
     "output_type": "display_data"
    },
    {
     "name": "stdout",
     "output_type": "stream",
     "text": [
      "Actual Mean cost: 9.73, Actual Median cost: 5.70\n",
      "Optimal Mean cost: 4.36, Optimal Median cost: 3.17\n"
     ]
    }
   ],
   "source": [
    "gradient_boost_model = GradientBoostingRegressor(random_state=50, min_samples_split=6, min_samples_leaf=2, max_depth=5)\n",
    "\n",
    "gradient_boost_model.fit(X_train, y_train)\n",
    "print(f'gradient_boost_model train accuracy: {gradient_boost_model.score(X_train, y_train):.2%}')\n",
    "print(f'gradient_boost_model test accuracy: {gradient_boost_model.score(X_test, y_test):.2%}')\n",
    "coef_df = pd.DataFrame({'Feature': X_train.columns, 'Importance': np.round(gradient_boost_model.feature_importances_, 4)})\n",
    "display(coef_df)\n",
    "\n",
    "test_df['predicted_u_star'] = gradient_boost_model.predict(X_test)\n",
    "test_df['actual_cost'] = test_df.apply(lambda row: methods.cal_cost(row['c'], row['h'], row['u'], row['predicted_u_star']), axis=1)\n",
    "print(f'Actual Mean cost: {test_df['actual_cost'].mean():.2f}, Actual Median cost: {test_df['actual_cost'].median():.2f}')\n",
    "print(f'Optimal Mean cost: {test_df['optimal_cost'].mean():.2f}, Optimal Median cost: {test_df['optimal_cost'].median():.2f}')"
   ]
  },
  {
   "cell_type": "markdown",
   "metadata": {
    "collapsed": false
   },
   "source": [
    "## Train and Test for *z*"
   ]
  },
  {
   "cell_type": "code",
   "execution_count": 10,
   "metadata": {
    "ExecuteTime": {
     "end_time": "2024-08-14T22:02:00.189966Z",
     "start_time": "2024-08-14T22:02:00.164307Z"
    },
    "collapsed": false
   },
   "outputs": [],
   "source": [
    "X_train = train_df[['N', 'n', 'h', 'c', 'mean_n', 'std_n', 'alpha_hat', 'beta_hat', 'u_star_hat']]\n",
    "y_train = train_df['z']\n",
    "\n",
    "X_test = test_df[['N', 'n', 'h', 'c', 'mean_n', 'std_n', 'alpha_hat', 'beta_hat', 'u_star_hat']]\n",
    "y_test = test_df['z']\n"
   ]
  },
  {
   "cell_type": "markdown",
   "metadata": {},
   "source": [
    "## Linear Regression for z"
   ]
  },
  {
   "cell_type": "code",
   "execution_count": 11,
   "metadata": {},
   "outputs": [
    {
     "name": "stdout",
     "output_type": "stream",
     "text": [
      "linear_model train accuracy: 9.96%\n",
      "linear_model test accuracy: 10.64%\n"
     ]
    },
    {
     "data": {
      "text/html": [
       "<div>\n",
       "<style scoped>\n",
       "    .dataframe tbody tr th:only-of-type {\n",
       "        vertical-align: middle;\n",
       "    }\n",
       "\n",
       "    .dataframe tbody tr th {\n",
       "        vertical-align: top;\n",
       "    }\n",
       "\n",
       "    .dataframe thead th {\n",
       "        text-align: right;\n",
       "    }\n",
       "</style>\n",
       "<table border=\"1\" class=\"dataframe\">\n",
       "  <thead>\n",
       "    <tr style=\"text-align: right;\">\n",
       "      <th></th>\n",
       "      <th>Feature</th>\n",
       "      <th>Coefficient</th>\n",
       "    </tr>\n",
       "  </thead>\n",
       "  <tbody>\n",
       "    <tr>\n",
       "      <th>0</th>\n",
       "      <td>N</td>\n",
       "      <td>-0.0006</td>\n",
       "    </tr>\n",
       "    <tr>\n",
       "      <th>1</th>\n",
       "      <td>n</td>\n",
       "      <td>-0.0000</td>\n",
       "    </tr>\n",
       "    <tr>\n",
       "      <th>2</th>\n",
       "      <td>h</td>\n",
       "      <td>-0.0000</td>\n",
       "    </tr>\n",
       "    <tr>\n",
       "      <th>3</th>\n",
       "      <td>c</td>\n",
       "      <td>-0.0000</td>\n",
       "    </tr>\n",
       "    <tr>\n",
       "      <th>4</th>\n",
       "      <td>mean_n</td>\n",
       "      <td>0.0166</td>\n",
       "    </tr>\n",
       "    <tr>\n",
       "      <th>5</th>\n",
       "      <td>std_n</td>\n",
       "      <td>-0.0874</td>\n",
       "    </tr>\n",
       "    <tr>\n",
       "      <th>6</th>\n",
       "      <td>alpha_hat</td>\n",
       "      <td>-0.0165</td>\n",
       "    </tr>\n",
       "    <tr>\n",
       "      <th>7</th>\n",
       "      <td>beta_hat</td>\n",
       "      <td>0.0543</td>\n",
       "    </tr>\n",
       "    <tr>\n",
       "      <th>8</th>\n",
       "      <td>u_star_hat</td>\n",
       "      <td>0.0000</td>\n",
       "    </tr>\n",
       "  </tbody>\n",
       "</table>\n",
       "</div>"
      ],
      "text/plain": [
       "      Feature  Coefficient\n",
       "0           N      -0.0006\n",
       "1           n      -0.0000\n",
       "2           h      -0.0000\n",
       "3           c      -0.0000\n",
       "4      mean_n       0.0166\n",
       "5       std_n      -0.0874\n",
       "6   alpha_hat      -0.0165\n",
       "7    beta_hat       0.0543\n",
       "8  u_star_hat       0.0000"
      ]
     },
     "metadata": {},
     "output_type": "display_data"
    },
    {
     "name": "stdout",
     "output_type": "stream",
     "text": [
      "Actual Mean cost: 10.04, Actual Median cost: 5.84\n",
      "Optimal Mean cost: 4.36, Optimal Median cost: 3.17\n"
     ]
    }
   ],
   "source": [
    "linear_model = LinearRegression()\n",
    "\n",
    "linear_model.fit(X_train, y_train)\n",
    "print(f'linear_model train accuracy: {linear_model.score(X_train, y_train):.2%}')\n",
    "print(f'linear_model test accuracy: {linear_model.score(X_test, y_test):.2%}')\n",
    "coef_df = pd.DataFrame({'Feature': X_train.columns, 'Coefficient': np.round(linear_model.coef_, 4)})\n",
    "display(coef_df)\n",
    "\n",
    "test_df['predicted_u_star'] = linear_model.predict(X_test) * test_df['u_star_hat']\n",
    "test_df['actual_cost'] = test_df.apply(lambda row: methods.cal_cost(row['c'], row['h'], row['u'], row['predicted_u_star']), axis=1)\n",
    "print(f'Actual Mean cost: {test_df['actual_cost'].mean():.2f}, Actual Median cost: {test_df['actual_cost'].median():.2f}')\n",
    "print(f'Optimal Mean cost: {test_df['optimal_cost'].mean():.2f}, Optimal Median cost: {test_df['optimal_cost'].median():.2f}')"
   ]
  },
  {
   "cell_type": "markdown",
   "metadata": {
    "collapsed": false
   },
   "source": [
    "## Random Forest for z"
   ]
  },
  {
   "cell_type": "code",
   "execution_count": 12,
   "metadata": {
    "ExecuteTime": {
     "end_time": "2024-08-14T22:02:01.988696Z",
     "start_time": "2024-08-14T22:02:00.170376Z"
    },
    "collapsed": false
   },
   "outputs": [
    {
     "name": "stdout",
     "output_type": "stream",
     "text": [
      "random_forest_model train accuracy: 77.89%\n",
      "random_forest_model test accuracy: 3.18%\n"
     ]
    },
    {
     "data": {
      "text/html": [
       "<div>\n",
       "<style scoped>\n",
       "    .dataframe tbody tr th:only-of-type {\n",
       "        vertical-align: middle;\n",
       "    }\n",
       "\n",
       "    .dataframe tbody tr th {\n",
       "        vertical-align: top;\n",
       "    }\n",
       "\n",
       "    .dataframe thead th {\n",
       "        text-align: right;\n",
       "    }\n",
       "</style>\n",
       "<table border=\"1\" class=\"dataframe\">\n",
       "  <thead>\n",
       "    <tr style=\"text-align: right;\">\n",
       "      <th></th>\n",
       "      <th>Feature</th>\n",
       "      <th>Importance</th>\n",
       "    </tr>\n",
       "  </thead>\n",
       "  <tbody>\n",
       "    <tr>\n",
       "      <th>0</th>\n",
       "      <td>N</td>\n",
       "      <td>0.0732</td>\n",
       "    </tr>\n",
       "    <tr>\n",
       "      <th>1</th>\n",
       "      <td>n</td>\n",
       "      <td>0.0000</td>\n",
       "    </tr>\n",
       "    <tr>\n",
       "      <th>2</th>\n",
       "      <td>h</td>\n",
       "      <td>0.0000</td>\n",
       "    </tr>\n",
       "    <tr>\n",
       "      <th>3</th>\n",
       "      <td>c</td>\n",
       "      <td>0.0000</td>\n",
       "    </tr>\n",
       "    <tr>\n",
       "      <th>4</th>\n",
       "      <td>mean_n</td>\n",
       "      <td>0.2643</td>\n",
       "    </tr>\n",
       "    <tr>\n",
       "      <th>5</th>\n",
       "      <td>std_n</td>\n",
       "      <td>0.1518</td>\n",
       "    </tr>\n",
       "    <tr>\n",
       "      <th>6</th>\n",
       "      <td>alpha_hat</td>\n",
       "      <td>0.1872</td>\n",
       "    </tr>\n",
       "    <tr>\n",
       "      <th>7</th>\n",
       "      <td>beta_hat</td>\n",
       "      <td>0.1409</td>\n",
       "    </tr>\n",
       "    <tr>\n",
       "      <th>8</th>\n",
       "      <td>u_star_hat</td>\n",
       "      <td>0.1826</td>\n",
       "    </tr>\n",
       "  </tbody>\n",
       "</table>\n",
       "</div>"
      ],
      "text/plain": [
       "      Feature  Importance\n",
       "0           N      0.0732\n",
       "1           n      0.0000\n",
       "2           h      0.0000\n",
       "3           c      0.0000\n",
       "4      mean_n      0.2643\n",
       "5       std_n      0.1518\n",
       "6   alpha_hat      0.1872\n",
       "7    beta_hat      0.1409\n",
       "8  u_star_hat      0.1826"
      ]
     },
     "metadata": {},
     "output_type": "display_data"
    },
    {
     "name": "stdout",
     "output_type": "stream",
     "text": [
      "Actual Mean cost: 10.03, Actual Median cost: 5.95\n",
      "Optimal Mean cost: 4.36, Optimal Median cost: 3.17\n"
     ]
    }
   ],
   "source": [
    "random_forest_model = RandomForestRegressor(random_state=50, max_features='sqrt', n_estimators=200, min_samples_leaf=2)\n",
    "\n",
    "random_forest_model.fit(X_train, y_train)\n",
    "print(f'random_forest_model train accuracy: {random_forest_model.score(X_train, y_train):.2%}')\n",
    "print(f'random_forest_model test accuracy: {random_forest_model.score(X_test, y_test):.2%}')\n",
    "coef_df = pd.DataFrame({'Feature': X_train.columns, 'Importance': np.round(random_forest_model.feature_importances_, 4)})\n",
    "display(coef_df)\n",
    "\n",
    "test_df['predicted_u_star'] = random_forest_model.predict(X_test) * test_df['u_star_hat']\n",
    "test_df['actual_cost'] = test_df.apply(lambda row: methods.cal_cost(row['c'], row['h'], row['u'], row['predicted_u_star']), axis=1)\n",
    "print(f'Actual Mean cost: {test_df['actual_cost'].mean():.2f}, Actual Median cost: {test_df['actual_cost'].median():.2f}')\n",
    "print(f'Optimal Mean cost: {test_df['optimal_cost'].mean():.2f}, Optimal Median cost: {test_df['optimal_cost'].median():.2f}')"
   ]
  },
  {
   "cell_type": "markdown",
   "metadata": {
    "collapsed": false
   },
   "source": [
    "## Gradient Boost for z"
   ]
  },
  {
   "cell_type": "code",
   "execution_count": 13,
   "metadata": {
    "ExecuteTime": {
     "end_time": "2024-08-14T22:02:03.294621Z",
     "start_time": "2024-08-14T22:02:01.989371Z"
    },
    "collapsed": false
   },
   "outputs": [
    {
     "name": "stdout",
     "output_type": "stream",
     "text": [
      "gradient_boost_model train accuracy: 35.20%\n",
      "gradient_boost_model test accuracy: 10.62%\n"
     ]
    },
    {
     "data": {
      "text/html": [
       "<div>\n",
       "<style scoped>\n",
       "    .dataframe tbody tr th:only-of-type {\n",
       "        vertical-align: middle;\n",
       "    }\n",
       "\n",
       "    .dataframe tbody tr th {\n",
       "        vertical-align: top;\n",
       "    }\n",
       "\n",
       "    .dataframe thead th {\n",
       "        text-align: right;\n",
       "    }\n",
       "</style>\n",
       "<table border=\"1\" class=\"dataframe\">\n",
       "  <thead>\n",
       "    <tr style=\"text-align: right;\">\n",
       "      <th></th>\n",
       "      <th>Feature</th>\n",
       "      <th>Importance</th>\n",
       "    </tr>\n",
       "  </thead>\n",
       "  <tbody>\n",
       "    <tr>\n",
       "      <th>0</th>\n",
       "      <td>N</td>\n",
       "      <td>0.0208</td>\n",
       "    </tr>\n",
       "    <tr>\n",
       "      <th>1</th>\n",
       "      <td>n</td>\n",
       "      <td>0.0000</td>\n",
       "    </tr>\n",
       "    <tr>\n",
       "      <th>2</th>\n",
       "      <td>h</td>\n",
       "      <td>0.0000</td>\n",
       "    </tr>\n",
       "    <tr>\n",
       "      <th>3</th>\n",
       "      <td>c</td>\n",
       "      <td>0.0000</td>\n",
       "    </tr>\n",
       "    <tr>\n",
       "      <th>4</th>\n",
       "      <td>mean_n</td>\n",
       "      <td>0.5917</td>\n",
       "    </tr>\n",
       "    <tr>\n",
       "      <th>5</th>\n",
       "      <td>std_n</td>\n",
       "      <td>0.0325</td>\n",
       "    </tr>\n",
       "    <tr>\n",
       "      <th>6</th>\n",
       "      <td>alpha_hat</td>\n",
       "      <td>0.2639</td>\n",
       "    </tr>\n",
       "    <tr>\n",
       "      <th>7</th>\n",
       "      <td>beta_hat</td>\n",
       "      <td>0.0345</td>\n",
       "    </tr>\n",
       "    <tr>\n",
       "      <th>8</th>\n",
       "      <td>u_star_hat</td>\n",
       "      <td>0.0567</td>\n",
       "    </tr>\n",
       "  </tbody>\n",
       "</table>\n",
       "</div>"
      ],
      "text/plain": [
       "      Feature  Importance\n",
       "0           N      0.0208\n",
       "1           n      0.0000\n",
       "2           h      0.0000\n",
       "3           c      0.0000\n",
       "4      mean_n      0.5917\n",
       "5       std_n      0.0325\n",
       "6   alpha_hat      0.2639\n",
       "7    beta_hat      0.0345\n",
       "8  u_star_hat      0.0567"
      ]
     },
     "metadata": {},
     "output_type": "display_data"
    },
    {
     "name": "stdout",
     "output_type": "stream",
     "text": [
      "Actual Mean cost: 9.70, Actual Median cost: 5.68\n",
      "Optimal Mean cost: 4.36, Optimal Median cost: 3.17\n"
     ]
    }
   ],
   "source": [
    "gradient_boost_model = GradientBoostingRegressor(random_state=50, min_samples_split=6, min_samples_leaf=2, max_depth=5)\n",
    "\n",
    "gradient_boost_model.fit(X_train, y_train)\n",
    "print(f'gradient_boost_model train accuracy: {gradient_boost_model.score(X_train, y_train):.2%}')\n",
    "print(f'gradient_boost_model test accuracy: {gradient_boost_model.score(X_test, y_test):.2%}')\n",
    "coef_df = pd.DataFrame({'Feature': X_train.columns, 'Importance': np.round(gradient_boost_model.feature_importances_, 4)})\n",
    "display(coef_df)\n",
    "\n",
    "test_df['predicted_u_star'] = gradient_boost_model.predict(X_test) * test_df['u_star_hat']\n",
    "test_df['actual_cost'] = test_df.apply(lambda row: methods.cal_cost(row['c'], row['h'], row['u'], row['predicted_u_star']), axis=1)\n",
    "print(f'Actual Mean cost: {test_df['actual_cost'].mean():.2f}, Actual Median cost: {test_df['actual_cost'].median():.2f}')\n",
    "print(f'Optimal Mean cost: {test_df['optimal_cost'].mean():.2f}, Optimal Median cost: {test_df['optimal_cost'].median():.2f}')"
   ]
  }
 ],
 "metadata": {
  "kernelspec": {
   "display_name": "mlClass",
   "language": "python",
   "name": "python3"
  },
  "language_info": {
   "codemirror_mode": {
    "name": "ipython",
    "version": 3
   },
   "file_extension": ".py",
   "mimetype": "text/x-python",
   "name": "python",
   "nbconvert_exporter": "python",
   "pygments_lexer": "ipython3",
   "version": "3.12.1"
  }
 },
 "nbformat": 4,
 "nbformat_minor": 2
}
