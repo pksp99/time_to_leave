{
 "cells": [
  {
   "cell_type": "code",
   "execution_count": 63,
   "metadata": {
    "ExecuteTime": {
     "end_time": "2024-08-14T22:01:56.868714Z",
     "start_time": "2024-08-14T22:01:56.822438Z"
    }
   },
   "outputs": [],
   "source": [
    "\n",
    "\n",
    "import numpy as np\n",
    "import pandas as pd\n",
    "import math\n",
    "import statistics\n",
    "import random\n",
    "import importlib\n",
    "\n",
    "from sklearn.model_selection import train_test_split\n",
    "from sklearn.linear_model import LinearRegression\n",
    "from sklearn.ensemble import RandomForestRegressor, GradientBoostingRegressor\n",
    "\n",
    "from utils import math_expressions as mexpr, methods"
   ]
  },
  {
   "cell_type": "code",
   "execution_count": 64,
   "metadata": {
    "ExecuteTime": {
     "end_time": "2024-08-14T22:01:56.912712Z",
     "start_time": "2024-08-14T22:01:56.826874Z"
    }
   },
   "outputs": [],
   "source": [
    "train_df = pd.read_csv('../../data/6gen_train.csv')\n",
    "test_df = pd.read_csv('../../data/6gen_test.csv')"
   ]
  },
  {
   "cell_type": "code",
   "execution_count": 65,
   "metadata": {
    "ExecuteTime": {
     "end_time": "2024-08-14T22:01:56.913195Z",
     "start_time": "2024-08-14T22:01:56.899827Z"
    }
   },
   "outputs": [
    {
     "data": {
      "text/html": [
       "<div>\n",
       "<style scoped>\n",
       "    .dataframe tbody tr th:only-of-type {\n",
       "        vertical-align: middle;\n",
       "    }\n",
       "\n",
       "    .dataframe tbody tr th {\n",
       "        vertical-align: top;\n",
       "    }\n",
       "\n",
       "    .dataframe thead th {\n",
       "        text-align: right;\n",
       "    }\n",
       "</style>\n",
       "<table border=\"1\" class=\"dataframe\">\n",
       "  <thead>\n",
       "    <tr style=\"text-align: right;\">\n",
       "      <th></th>\n",
       "      <th>alpha</th>\n",
       "      <th>beta</th>\n",
       "      <th>h</th>\n",
       "      <th>c</th>\n",
       "      <th>N</th>\n",
       "      <th>n</th>\n",
       "      <th>mean_n</th>\n",
       "      <th>std_n</th>\n",
       "      <th>alpha_hat</th>\n",
       "      <th>beta_hat</th>\n",
       "      <th>intervals_str</th>\n",
       "      <th>u</th>\n",
       "      <th>u_star</th>\n",
       "      <th>u_star_hat</th>\n",
       "      <th>z</th>\n",
       "      <th>optimal_cost</th>\n",
       "      <th>actual_cost</th>\n",
       "    </tr>\n",
       "  </thead>\n",
       "  <tbody>\n",
       "    <tr>\n",
       "      <th>0</th>\n",
       "      <td>2</td>\n",
       "      <td>2.0</td>\n",
       "      <td>0.40</td>\n",
       "      <td>20</td>\n",
       "      <td>11</td>\n",
       "      <td>6</td>\n",
       "      <td>4.685768</td>\n",
       "      <td>4.770839</td>\n",
       "      <td>0.964655</td>\n",
       "      <td>4.857455</td>\n",
       "      <td>2.729330124585387_3.381000767316402_4.51257152...</td>\n",
       "      <td>27.063500</td>\n",
       "      <td>31.161318</td>\n",
       "      <td>34.342779</td>\n",
       "      <td>0.907362</td>\n",
       "      <td>20.000000</td>\n",
       "      <td>20.000000</td>\n",
       "    </tr>\n",
       "    <tr>\n",
       "      <th>1</th>\n",
       "      <td>3</td>\n",
       "      <td>1.0</td>\n",
       "      <td>0.05</td>\n",
       "      <td>30</td>\n",
       "      <td>23</td>\n",
       "      <td>6</td>\n",
       "      <td>2.551518</td>\n",
       "      <td>1.576700</td>\n",
       "      <td>2.618781</td>\n",
       "      <td>0.974315</td>\n",
       "      <td>2.5256728972390525_2.306696258193459_1.3680899...</td>\n",
       "      <td>68.500607</td>\n",
       "      <td>48.775107</td>\n",
       "      <td>40.154071</td>\n",
       "      <td>1.214699</td>\n",
       "      <td>0.986275</td>\n",
       "      <td>1.417327</td>\n",
       "    </tr>\n",
       "    <tr>\n",
       "      <th>2</th>\n",
       "      <td>3</td>\n",
       "      <td>1.5</td>\n",
       "      <td>0.10</td>\n",
       "      <td>25</td>\n",
       "      <td>29</td>\n",
       "      <td>6</td>\n",
       "      <td>5.108306</td>\n",
       "      <td>1.836846</td>\n",
       "      <td>7.734077</td>\n",
       "      <td>0.660493</td>\n",
       "      <td>6.009730255289886_2.2924859370871244_6.3770653...</td>\n",
       "      <td>114.963266</td>\n",
       "      <td>103.211930</td>\n",
       "      <td>127.202314</td>\n",
       "      <td>0.811400</td>\n",
       "      <td>1.175134</td>\n",
       "      <td>25.000000</td>\n",
       "    </tr>\n",
       "    <tr>\n",
       "      <th>3</th>\n",
       "      <td>2</td>\n",
       "      <td>1.5</td>\n",
       "      <td>0.05</td>\n",
       "      <td>20</td>\n",
       "      <td>14</td>\n",
       "      <td>6</td>\n",
       "      <td>1.919946</td>\n",
       "      <td>1.434849</td>\n",
       "      <td>1.790464</td>\n",
       "      <td>1.072318</td>\n",
       "      <td>1.1036590233223538_1.202884444882533_1.8953784...</td>\n",
       "      <td>48.206955</td>\n",
       "      <td>24.236227</td>\n",
       "      <td>14.388398</td>\n",
       "      <td>1.684428</td>\n",
       "      <td>1.198536</td>\n",
       "      <td>1.690928</td>\n",
       "    </tr>\n",
       "    <tr>\n",
       "      <th>4</th>\n",
       "      <td>2</td>\n",
       "      <td>1.5</td>\n",
       "      <td>0.40</td>\n",
       "      <td>30</td>\n",
       "      <td>48</td>\n",
       "      <td>6</td>\n",
       "      <td>3.331694</td>\n",
       "      <td>1.289347</td>\n",
       "      <td>6.677138</td>\n",
       "      <td>0.498970</td>\n",
       "      <td>2.3731029980070906_3.981747473831444_1.6576519...</td>\n",
       "      <td>138.079893</td>\n",
       "      <td>124.700221</td>\n",
       "      <td>145.662469</td>\n",
       "      <td>0.856090</td>\n",
       "      <td>5.351869</td>\n",
       "      <td>30.000000</td>\n",
       "    </tr>\n",
       "  </tbody>\n",
       "</table>\n",
       "</div>"
      ],
      "text/plain": [
       "   alpha  beta     h   c   N  n    mean_n     std_n  alpha_hat  beta_hat  \\\n",
       "0      2   2.0  0.40  20  11  6  4.685768  4.770839   0.964655  4.857455   \n",
       "1      3   1.0  0.05  30  23  6  2.551518  1.576700   2.618781  0.974315   \n",
       "2      3   1.5  0.10  25  29  6  5.108306  1.836846   7.734077  0.660493   \n",
       "3      2   1.5  0.05  20  14  6  1.919946  1.434849   1.790464  1.072318   \n",
       "4      2   1.5  0.40  30  48  6  3.331694  1.289347   6.677138  0.498970   \n",
       "\n",
       "                                       intervals_str           u      u_star  \\\n",
       "0  2.729330124585387_3.381000767316402_4.51257152...   27.063500   31.161318   \n",
       "1  2.5256728972390525_2.306696258193459_1.3680899...   68.500607   48.775107   \n",
       "2  6.009730255289886_2.2924859370871244_6.3770653...  114.963266  103.211930   \n",
       "3  1.1036590233223538_1.202884444882533_1.8953784...   48.206955   24.236227   \n",
       "4  2.3731029980070906_3.981747473831444_1.6576519...  138.079893  124.700221   \n",
       "\n",
       "   u_star_hat         z  optimal_cost  actual_cost  \n",
       "0   34.342779  0.907362     20.000000    20.000000  \n",
       "1   40.154071  1.214699      0.986275     1.417327  \n",
       "2  127.202314  0.811400      1.175134    25.000000  \n",
       "3   14.388398  1.684428      1.198536     1.690928  \n",
       "4  145.662469  0.856090      5.351869    30.000000  "
      ]
     },
     "execution_count": 65,
     "metadata": {},
     "output_type": "execute_result"
    }
   ],
   "source": [
    "train_df.head()"
   ]
  },
  {
   "cell_type": "markdown",
   "metadata": {},
   "source": [
    "## Average Model"
   ]
  },
  {
   "cell_type": "code",
   "execution_count": 66,
   "metadata": {
    "ExecuteTime": {
     "end_time": "2024-08-14T22:01:57.018172Z",
     "start_time": "2024-08-14T22:01:56.903136Z"
    }
   },
   "outputs": [
    {
     "name": "stdout",
     "output_type": "stream",
     "text": [
      "Actual Mean cost: 14.60, Actual Median cost: 15.00\n",
      "Optimal Mean cost: 5.31, Optimal Median cost: 2.29\n"
     ]
    }
   ],
   "source": [
    "test_df['actual_cost'] = test_df.apply(lambda row: methods.cal_cost(row['c'], row['h'], row['u'], row['mean_n'] * row['N']), axis=1)\n",
    "print(f'Actual Mean cost: {test_df['actual_cost'].mean():.2f}, Actual Median cost: {test_df['actual_cost'].median():.2f}')\n",
    "print(f'Optimal Mean cost: {test_df['optimal_cost'].mean():.2f}, Optimal Median cost: {test_df['optimal_cost'].median():.2f}')"
   ]
  },
  {
   "cell_type": "markdown",
   "metadata": {
    "collapsed": false
   },
   "source": [
    "## Estimated u* from alpha_hat and beta_hat"
   ]
  },
  {
   "cell_type": "code",
   "execution_count": 67,
   "metadata": {
    "ExecuteTime": {
     "end_time": "2024-08-14T22:01:57.059032Z",
     "start_time": "2024-08-14T22:01:56.955148Z"
    },
    "collapsed": false
   },
   "outputs": [
    {
     "name": "stdout",
     "output_type": "stream",
     "text": [
      "Actual Mean cost: 10.12, Actual Median cost: 5.03\n",
      "Optimal Mean cost: 5.31, Optimal Median cost: 2.29\n"
     ]
    }
   ],
   "source": [
    "test_df['actual_cost'] = test_df.apply(lambda row: methods.cal_cost(row['c'], row['h'], row['u'], row['u_star_hat']), axis=1)\n",
    "print(f'Actual Mean cost: {test_df['actual_cost'].mean():.2f}, Actual Median cost: {test_df['actual_cost'].median():.2f}')\n",
    "print(f'Optimal Mean cost: {test_df['optimal_cost'].mean():.2f}, Optimal Median cost: {test_df['optimal_cost'].median():.2f}')"
   ]
  },
  {
   "cell_type": "markdown",
   "metadata": {
    "collapsed": false
   },
   "source": [
    "## Train and Test for *u_star*"
   ]
  },
  {
   "cell_type": "code",
   "execution_count": 68,
   "metadata": {
    "ExecuteTime": {
     "end_time": "2024-08-14T22:01:57.059244Z",
     "start_time": "2024-08-14T22:01:57.024601Z"
    },
    "collapsed": false
   },
   "outputs": [],
   "source": [
    "X_train = train_df[['N', 'n', 'h', 'c', 'mean_n', 'std_n', 'alpha_hat', 'beta_hat', 'u_star_hat']]\n",
    "y_train = train_df['u_star']\n",
    "\n",
    "X_test = test_df[['N', 'n', 'h', 'c', 'mean_n', 'std_n', 'alpha_hat', 'beta_hat', 'u_star_hat']]\n",
    "y_test = test_df['u_star']\n"
   ]
  },
  {
   "cell_type": "markdown",
   "metadata": {
    "collapsed": false
   },
   "source": [
    "## Linear Model for u_star"
   ]
  },
  {
   "cell_type": "code",
   "execution_count": 69,
   "metadata": {
    "ExecuteTime": {
     "end_time": "2024-08-14T22:01:57.244573Z",
     "start_time": "2024-08-14T22:01:57.032019Z"
    },
    "collapsed": false
   },
   "outputs": [
    {
     "name": "stdout",
     "output_type": "stream",
     "text": [
      "linear_model train accuracy: 91.37%\n",
      "linear_model test accuracy: 91.22%\n"
     ]
    },
    {
     "data": {
      "text/html": [
       "<div>\n",
       "<style scoped>\n",
       "    .dataframe tbody tr th:only-of-type {\n",
       "        vertical-align: middle;\n",
       "    }\n",
       "\n",
       "    .dataframe tbody tr th {\n",
       "        vertical-align: top;\n",
       "    }\n",
       "\n",
       "    .dataframe thead th {\n",
       "        text-align: right;\n",
       "    }\n",
       "</style>\n",
       "<table border=\"1\" class=\"dataframe\">\n",
       "  <thead>\n",
       "    <tr style=\"text-align: right;\">\n",
       "      <th></th>\n",
       "      <th>Feature</th>\n",
       "      <th>Coefficient</th>\n",
       "    </tr>\n",
       "  </thead>\n",
       "  <tbody>\n",
       "    <tr>\n",
       "      <th>0</th>\n",
       "      <td>N</td>\n",
       "      <td>0.9627</td>\n",
       "    </tr>\n",
       "    <tr>\n",
       "      <th>1</th>\n",
       "      <td>n</td>\n",
       "      <td>0.0000</td>\n",
       "    </tr>\n",
       "    <tr>\n",
       "      <th>2</th>\n",
       "      <td>h</td>\n",
       "      <td>13.5662</td>\n",
       "    </tr>\n",
       "    <tr>\n",
       "      <th>3</th>\n",
       "      <td>c</td>\n",
       "      <td>-0.0258</td>\n",
       "    </tr>\n",
       "    <tr>\n",
       "      <th>4</th>\n",
       "      <td>mean_n</td>\n",
       "      <td>0.1983</td>\n",
       "    </tr>\n",
       "    <tr>\n",
       "      <th>5</th>\n",
       "      <td>std_n</td>\n",
       "      <td>4.5544</td>\n",
       "    </tr>\n",
       "    <tr>\n",
       "      <th>6</th>\n",
       "      <td>alpha_hat</td>\n",
       "      <td>-0.0607</td>\n",
       "    </tr>\n",
       "    <tr>\n",
       "      <th>7</th>\n",
       "      <td>beta_hat</td>\n",
       "      <td>-7.0255</td>\n",
       "    </tr>\n",
       "    <tr>\n",
       "      <th>8</th>\n",
       "      <td>u_star_hat</td>\n",
       "      <td>0.8331</td>\n",
       "    </tr>\n",
       "  </tbody>\n",
       "</table>\n",
       "</div>"
      ],
      "text/plain": [
       "      Feature  Coefficient\n",
       "0           N       0.9627\n",
       "1           n       0.0000\n",
       "2           h      13.5662\n",
       "3           c      -0.0258\n",
       "4      mean_n       0.1983\n",
       "5       std_n       4.5544\n",
       "6   alpha_hat      -0.0607\n",
       "7    beta_hat      -7.0255\n",
       "8  u_star_hat       0.8331"
      ]
     },
     "metadata": {},
     "output_type": "display_data"
    },
    {
     "name": "stdout",
     "output_type": "stream",
     "text": [
      "Actual Mean cost: 10.21, Actual Median cost: 5.10\n",
      "Optimal Mean cost: 5.31, Optimal Median cost: 2.29\n"
     ]
    }
   ],
   "source": [
    "linear_model = LinearRegression()\n",
    "\n",
    "linear_model.fit(X_train, y_train)\n",
    "print(f'linear_model train accuracy: {linear_model.score(X_train, y_train):.2%}')\n",
    "print(f'linear_model test accuracy: {linear_model.score(X_test, y_test):.2%}')\n",
    "coef_df = pd.DataFrame({'Feature': X_train.columns, 'Coefficient': np.round(linear_model.coef_, 4)})\n",
    "display(coef_df)\n",
    "\n",
    "test_df['predicted_u_star'] = linear_model.predict(X_test)\n",
    "test_df['actual_cost'] = test_df.apply(lambda row: methods.cal_cost(row['c'], row['h'], row['u'], row['predicted_u_star']), axis=1)\n",
    "print(f'Actual Mean cost: {test_df['actual_cost'].mean():.2f}, Actual Median cost: {test_df['actual_cost'].median():.2f}')\n",
    "print(f'Optimal Mean cost: {test_df['optimal_cost'].mean():.2f}, Optimal Median cost: {test_df['optimal_cost'].median():.2f}')"
   ]
  },
  {
   "cell_type": "markdown",
   "metadata": {
    "collapsed": false
   },
   "source": [
    "## Random Forest for u_star"
   ]
  },
  {
   "cell_type": "code",
   "execution_count": 70,
   "metadata": {
    "ExecuteTime": {
     "end_time": "2024-08-14T22:01:58.826009Z",
     "start_time": "2024-08-14T22:01:57.208457Z"
    },
    "collapsed": false
   },
   "outputs": [
    {
     "name": "stdout",
     "output_type": "stream",
     "text": [
      "random_forest_model train accuracy: 97.71%\n",
      "random_forest_model test accuracy: 91.19%\n"
     ]
    },
    {
     "data": {
      "text/html": [
       "<div>\n",
       "<style scoped>\n",
       "    .dataframe tbody tr th:only-of-type {\n",
       "        vertical-align: middle;\n",
       "    }\n",
       "\n",
       "    .dataframe tbody tr th {\n",
       "        vertical-align: top;\n",
       "    }\n",
       "\n",
       "    .dataframe thead th {\n",
       "        text-align: right;\n",
       "    }\n",
       "</style>\n",
       "<table border=\"1\" class=\"dataframe\">\n",
       "  <thead>\n",
       "    <tr style=\"text-align: right;\">\n",
       "      <th></th>\n",
       "      <th>Feature</th>\n",
       "      <th>Importance</th>\n",
       "    </tr>\n",
       "  </thead>\n",
       "  <tbody>\n",
       "    <tr>\n",
       "      <th>0</th>\n",
       "      <td>N</td>\n",
       "      <td>0.1442</td>\n",
       "    </tr>\n",
       "    <tr>\n",
       "      <th>1</th>\n",
       "      <td>n</td>\n",
       "      <td>0.0000</td>\n",
       "    </tr>\n",
       "    <tr>\n",
       "      <th>2</th>\n",
       "      <td>h</td>\n",
       "      <td>0.0038</td>\n",
       "    </tr>\n",
       "    <tr>\n",
       "      <th>3</th>\n",
       "      <td>c</td>\n",
       "      <td>0.0041</td>\n",
       "    </tr>\n",
       "    <tr>\n",
       "      <th>4</th>\n",
       "      <td>mean_n</td>\n",
       "      <td>0.1942</td>\n",
       "    </tr>\n",
       "    <tr>\n",
       "      <th>5</th>\n",
       "      <td>std_n</td>\n",
       "      <td>0.0582</td>\n",
       "    </tr>\n",
       "    <tr>\n",
       "      <th>6</th>\n",
       "      <td>alpha_hat</td>\n",
       "      <td>0.0378</td>\n",
       "    </tr>\n",
       "    <tr>\n",
       "      <th>7</th>\n",
       "      <td>beta_hat</td>\n",
       "      <td>0.0146</td>\n",
       "    </tr>\n",
       "    <tr>\n",
       "      <th>8</th>\n",
       "      <td>u_star_hat</td>\n",
       "      <td>0.5430</td>\n",
       "    </tr>\n",
       "  </tbody>\n",
       "</table>\n",
       "</div>"
      ],
      "text/plain": [
       "      Feature  Importance\n",
       "0           N      0.1442\n",
       "1           n      0.0000\n",
       "2           h      0.0038\n",
       "3           c      0.0041\n",
       "4      mean_n      0.1942\n",
       "5       std_n      0.0582\n",
       "6   alpha_hat      0.0378\n",
       "7    beta_hat      0.0146\n",
       "8  u_star_hat      0.5430"
      ]
     },
     "metadata": {},
     "output_type": "display_data"
    },
    {
     "name": "stdout",
     "output_type": "stream",
     "text": [
      "Actual Mean cost: 10.10, Actual Median cost: 4.96\n",
      "Optimal Mean cost: 5.31, Optimal Median cost: 2.29\n"
     ]
    }
   ],
   "source": [
    "random_forest_model = RandomForestRegressor(random_state=50, max_features='sqrt', n_estimators=200, min_samples_leaf=2)\n",
    "\n",
    "random_forest_model.fit(X_train, y_train)\n",
    "print(f'random_forest_model train accuracy: {random_forest_model.score(X_train, y_train):.2%}')\n",
    "print(f'random_forest_model test accuracy: {random_forest_model.score(X_test, y_test):.2%}')\n",
    "coef_df = pd.DataFrame({'Feature': X_train.columns, 'Importance': np.round(random_forest_model.feature_importances_, 4)})\n",
    "display(coef_df)\n",
    "\n",
    "test_df['predicted_u_star'] = random_forest_model.predict(X_test)\n",
    "test_df['actual_cost'] = test_df.apply(lambda row: methods.cal_cost(row['c'], row['h'], row['u'], row['predicted_u_star']), axis=1)\n",
    "print(f'Actual Mean cost: {test_df['actual_cost'].mean():.2f}, Actual Median cost: {test_df['actual_cost'].median():.2f}')\n",
    "print(f'Optimal Mean cost: {test_df['optimal_cost'].mean():.2f}, Optimal Median cost: {test_df['optimal_cost'].median():.2f}')"
   ]
  },
  {
   "cell_type": "markdown",
   "metadata": {
    "collapsed": false
   },
   "source": [
    "## Gradient Boost for u_star"
   ]
  },
  {
   "cell_type": "code",
   "execution_count": 71,
   "metadata": {
    "ExecuteTime": {
     "end_time": "2024-08-14T22:02:00.186294Z",
     "start_time": "2024-08-14T22:01:58.827206Z"
    },
    "collapsed": false
   },
   "outputs": [
    {
     "name": "stdout",
     "output_type": "stream",
     "text": [
      "gradient_boost_model train accuracy: 95.30%\n",
      "gradient_boost_model test accuracy: 91.20%\n"
     ]
    },
    {
     "data": {
      "text/html": [
       "<div>\n",
       "<style scoped>\n",
       "    .dataframe tbody tr th:only-of-type {\n",
       "        vertical-align: middle;\n",
       "    }\n",
       "\n",
       "    .dataframe tbody tr th {\n",
       "        vertical-align: top;\n",
       "    }\n",
       "\n",
       "    .dataframe thead th {\n",
       "        text-align: right;\n",
       "    }\n",
       "</style>\n",
       "<table border=\"1\" class=\"dataframe\">\n",
       "  <thead>\n",
       "    <tr style=\"text-align: right;\">\n",
       "      <th></th>\n",
       "      <th>Feature</th>\n",
       "      <th>Importance</th>\n",
       "    </tr>\n",
       "  </thead>\n",
       "  <tbody>\n",
       "    <tr>\n",
       "      <th>0</th>\n",
       "      <td>N</td>\n",
       "      <td>0.0084</td>\n",
       "    </tr>\n",
       "    <tr>\n",
       "      <th>1</th>\n",
       "      <td>n</td>\n",
       "      <td>0.0000</td>\n",
       "    </tr>\n",
       "    <tr>\n",
       "      <th>2</th>\n",
       "      <td>h</td>\n",
       "      <td>0.0007</td>\n",
       "    </tr>\n",
       "    <tr>\n",
       "      <th>3</th>\n",
       "      <td>c</td>\n",
       "      <td>0.0009</td>\n",
       "    </tr>\n",
       "    <tr>\n",
       "      <th>4</th>\n",
       "      <td>mean_n</td>\n",
       "      <td>0.0076</td>\n",
       "    </tr>\n",
       "    <tr>\n",
       "      <th>5</th>\n",
       "      <td>std_n</td>\n",
       "      <td>0.0041</td>\n",
       "    </tr>\n",
       "    <tr>\n",
       "      <th>6</th>\n",
       "      <td>alpha_hat</td>\n",
       "      <td>0.0059</td>\n",
       "    </tr>\n",
       "    <tr>\n",
       "      <th>7</th>\n",
       "      <td>beta_hat</td>\n",
       "      <td>0.0038</td>\n",
       "    </tr>\n",
       "    <tr>\n",
       "      <th>8</th>\n",
       "      <td>u_star_hat</td>\n",
       "      <td>0.9685</td>\n",
       "    </tr>\n",
       "  </tbody>\n",
       "</table>\n",
       "</div>"
      ],
      "text/plain": [
       "      Feature  Importance\n",
       "0           N      0.0084\n",
       "1           n      0.0000\n",
       "2           h      0.0007\n",
       "3           c      0.0009\n",
       "4      mean_n      0.0076\n",
       "5       std_n      0.0041\n",
       "6   alpha_hat      0.0059\n",
       "7    beta_hat      0.0038\n",
       "8  u_star_hat      0.9685"
      ]
     },
     "metadata": {},
     "output_type": "display_data"
    },
    {
     "name": "stdout",
     "output_type": "stream",
     "text": [
      "Actual Mean cost: 10.01, Actual Median cost: 4.87\n",
      "Optimal Mean cost: 5.31, Optimal Median cost: 2.29\n"
     ]
    }
   ],
   "source": [
    "gradient_boost_model = GradientBoostingRegressor(random_state=50, min_samples_split=6, min_samples_leaf=2, max_depth=5)\n",
    "\n",
    "gradient_boost_model.fit(X_train, y_train)\n",
    "print(f'gradient_boost_model train accuracy: {gradient_boost_model.score(X_train, y_train):.2%}')\n",
    "print(f'gradient_boost_model test accuracy: {gradient_boost_model.score(X_test, y_test):.2%}')\n",
    "coef_df = pd.DataFrame({'Feature': X_train.columns, 'Importance': np.round(gradient_boost_model.feature_importances_, 4)})\n",
    "display(coef_df)\n",
    "\n",
    "test_df['predicted_u_star'] = gradient_boost_model.predict(X_test)\n",
    "test_df['actual_cost'] = test_df.apply(lambda row: methods.cal_cost(row['c'], row['h'], row['u'], row['predicted_u_star']), axis=1)\n",
    "print(f'Actual Mean cost: {test_df['actual_cost'].mean():.2f}, Actual Median cost: {test_df['actual_cost'].median():.2f}')\n",
    "print(f'Optimal Mean cost: {test_df['optimal_cost'].mean():.2f}, Optimal Median cost: {test_df['optimal_cost'].median():.2f}')"
   ]
  },
  {
   "cell_type": "markdown",
   "metadata": {
    "collapsed": false
   },
   "source": [
    "## Train and Test for *z*"
   ]
  },
  {
   "cell_type": "code",
   "execution_count": 72,
   "metadata": {
    "ExecuteTime": {
     "end_time": "2024-08-14T22:02:00.189966Z",
     "start_time": "2024-08-14T22:02:00.164307Z"
    },
    "collapsed": false
   },
   "outputs": [],
   "source": [
    "X_train = train_df[['N', 'n', 'h', 'c', 'mean_n', 'std_n', 'alpha_hat', 'beta_hat', 'u_star_hat']]\n",
    "y_train = train_df['z']\n",
    "\n",
    "X_test = test_df[['N', 'n', 'h', 'c', 'mean_n', 'std_n', 'alpha_hat', 'beta_hat', 'u_star_hat']]\n",
    "y_test = test_df['z']\n"
   ]
  },
  {
   "cell_type": "markdown",
   "metadata": {},
   "source": [
    "## Linear Regression for z"
   ]
  },
  {
   "cell_type": "code",
   "execution_count": 73,
   "metadata": {},
   "outputs": [
    {
     "name": "stdout",
     "output_type": "stream",
     "text": [
      "linear_model train accuracy: 11.74%\n",
      "linear_model test accuracy: 11.54%\n"
     ]
    },
    {
     "data": {
      "text/html": [
       "<div>\n",
       "<style scoped>\n",
       "    .dataframe tbody tr th:only-of-type {\n",
       "        vertical-align: middle;\n",
       "    }\n",
       "\n",
       "    .dataframe tbody tr th {\n",
       "        vertical-align: top;\n",
       "    }\n",
       "\n",
       "    .dataframe thead th {\n",
       "        text-align: right;\n",
       "    }\n",
       "</style>\n",
       "<table border=\"1\" class=\"dataframe\">\n",
       "  <thead>\n",
       "    <tr style=\"text-align: right;\">\n",
       "      <th></th>\n",
       "      <th>Feature</th>\n",
       "      <th>Coefficient</th>\n",
       "    </tr>\n",
       "  </thead>\n",
       "  <tbody>\n",
       "    <tr>\n",
       "      <th>0</th>\n",
       "      <td>N</td>\n",
       "      <td>0.0000</td>\n",
       "    </tr>\n",
       "    <tr>\n",
       "      <th>1</th>\n",
       "      <td>n</td>\n",
       "      <td>0.0000</td>\n",
       "    </tr>\n",
       "    <tr>\n",
       "      <th>2</th>\n",
       "      <td>h</td>\n",
       "      <td>0.0303</td>\n",
       "    </tr>\n",
       "    <tr>\n",
       "      <th>3</th>\n",
       "      <td>c</td>\n",
       "      <td>0.0006</td>\n",
       "    </tr>\n",
       "    <tr>\n",
       "      <th>4</th>\n",
       "      <td>mean_n</td>\n",
       "      <td>-0.0055</td>\n",
       "    </tr>\n",
       "    <tr>\n",
       "      <th>5</th>\n",
       "      <td>std_n</td>\n",
       "      <td>-0.0703</td>\n",
       "    </tr>\n",
       "    <tr>\n",
       "      <th>6</th>\n",
       "      <td>alpha_hat</td>\n",
       "      <td>-0.0044</td>\n",
       "    </tr>\n",
       "    <tr>\n",
       "      <th>7</th>\n",
       "      <td>beta_hat</td>\n",
       "      <td>0.0407</td>\n",
       "    </tr>\n",
       "    <tr>\n",
       "      <th>8</th>\n",
       "      <td>u_star_hat</td>\n",
       "      <td>0.0000</td>\n",
       "    </tr>\n",
       "  </tbody>\n",
       "</table>\n",
       "</div>"
      ],
      "text/plain": [
       "      Feature  Coefficient\n",
       "0           N       0.0000\n",
       "1           n       0.0000\n",
       "2           h       0.0303\n",
       "3           c       0.0006\n",
       "4      mean_n      -0.0055\n",
       "5       std_n      -0.0703\n",
       "6   alpha_hat      -0.0044\n",
       "7    beta_hat       0.0407\n",
       "8  u_star_hat       0.0000"
      ]
     },
     "metadata": {},
     "output_type": "display_data"
    },
    {
     "name": "stdout",
     "output_type": "stream",
     "text": [
      "Actual Mean cost: 10.42, Actual Median cost: 5.26\n",
      "Optimal Mean cost: 5.31, Optimal Median cost: 2.29\n"
     ]
    }
   ],
   "source": [
    "linear_model = LinearRegression()\n",
    "\n",
    "linear_model.fit(X_train, y_train)\n",
    "print(f'linear_model train accuracy: {linear_model.score(X_train, y_train):.2%}')\n",
    "print(f'linear_model test accuracy: {linear_model.score(X_test, y_test):.2%}')\n",
    "coef_df = pd.DataFrame({'Feature': X_train.columns, 'Coefficient': np.round(linear_model.coef_, 4)})\n",
    "display(coef_df)\n",
    "\n",
    "test_df['predicted_u_star'] = linear_model.predict(X_test) * test_df['u_star_hat']\n",
    "test_df['actual_cost'] = test_df.apply(lambda row: methods.cal_cost(row['c'], row['h'], row['u'], row['predicted_u_star']), axis=1)\n",
    "print(f'Actual Mean cost: {test_df['actual_cost'].mean():.2f}, Actual Median cost: {test_df['actual_cost'].median():.2f}')\n",
    "print(f'Optimal Mean cost: {test_df['optimal_cost'].mean():.2f}, Optimal Median cost: {test_df['optimal_cost'].median():.2f}')"
   ]
  },
  {
   "cell_type": "markdown",
   "metadata": {
    "collapsed": false
   },
   "source": [
    "## Random Forest for z"
   ]
  },
  {
   "cell_type": "code",
   "execution_count": 74,
   "metadata": {
    "ExecuteTime": {
     "end_time": "2024-08-14T22:02:01.988696Z",
     "start_time": "2024-08-14T22:02:00.170376Z"
    },
    "collapsed": false
   },
   "outputs": [
    {
     "name": "stdout",
     "output_type": "stream",
     "text": [
      "random_forest_model train accuracy: 80.13%\n",
      "random_forest_model test accuracy: 29.18%\n"
     ]
    },
    {
     "data": {
      "text/html": [
       "<div>\n",
       "<style scoped>\n",
       "    .dataframe tbody tr th:only-of-type {\n",
       "        vertical-align: middle;\n",
       "    }\n",
       "\n",
       "    .dataframe tbody tr th {\n",
       "        vertical-align: top;\n",
       "    }\n",
       "\n",
       "    .dataframe thead th {\n",
       "        text-align: right;\n",
       "    }\n",
       "</style>\n",
       "<table border=\"1\" class=\"dataframe\">\n",
       "  <thead>\n",
       "    <tr style=\"text-align: right;\">\n",
       "      <th></th>\n",
       "      <th>Feature</th>\n",
       "      <th>Importance</th>\n",
       "    </tr>\n",
       "  </thead>\n",
       "  <tbody>\n",
       "    <tr>\n",
       "      <th>0</th>\n",
       "      <td>N</td>\n",
       "      <td>0.0854</td>\n",
       "    </tr>\n",
       "    <tr>\n",
       "      <th>1</th>\n",
       "      <td>n</td>\n",
       "      <td>0.0000</td>\n",
       "    </tr>\n",
       "    <tr>\n",
       "      <th>2</th>\n",
       "      <td>h</td>\n",
       "      <td>0.0247</td>\n",
       "    </tr>\n",
       "    <tr>\n",
       "      <th>3</th>\n",
       "      <td>c</td>\n",
       "      <td>0.0317</td>\n",
       "    </tr>\n",
       "    <tr>\n",
       "      <th>4</th>\n",
       "      <td>mean_n</td>\n",
       "      <td>0.3049</td>\n",
       "    </tr>\n",
       "    <tr>\n",
       "      <th>5</th>\n",
       "      <td>std_n</td>\n",
       "      <td>0.1370</td>\n",
       "    </tr>\n",
       "    <tr>\n",
       "      <th>6</th>\n",
       "      <td>alpha_hat</td>\n",
       "      <td>0.1415</td>\n",
       "    </tr>\n",
       "    <tr>\n",
       "      <th>7</th>\n",
       "      <td>beta_hat</td>\n",
       "      <td>0.1079</td>\n",
       "    </tr>\n",
       "    <tr>\n",
       "      <th>8</th>\n",
       "      <td>u_star_hat</td>\n",
       "      <td>0.1668</td>\n",
       "    </tr>\n",
       "  </tbody>\n",
       "</table>\n",
       "</div>"
      ],
      "text/plain": [
       "      Feature  Importance\n",
       "0           N      0.0854\n",
       "1           n      0.0000\n",
       "2           h      0.0247\n",
       "3           c      0.0317\n",
       "4      mean_n      0.3049\n",
       "5       std_n      0.1370\n",
       "6   alpha_hat      0.1415\n",
       "7    beta_hat      0.1079\n",
       "8  u_star_hat      0.1668"
      ]
     },
     "metadata": {},
     "output_type": "display_data"
    },
    {
     "name": "stdout",
     "output_type": "stream",
     "text": [
      "Actual Mean cost: 9.87, Actual Median cost: 4.78\n",
      "Optimal Mean cost: 5.31, Optimal Median cost: 2.29\n"
     ]
    }
   ],
   "source": [
    "random_forest_model = RandomForestRegressor(random_state=50, max_features='sqrt', n_estimators=200, min_samples_leaf=2)\n",
    "\n",
    "random_forest_model.fit(X_train, y_train)\n",
    "print(f'random_forest_model train accuracy: {random_forest_model.score(X_train, y_train):.2%}')\n",
    "print(f'random_forest_model test accuracy: {random_forest_model.score(X_test, y_test):.2%}')\n",
    "coef_df = pd.DataFrame({'Feature': X_train.columns, 'Importance': np.round(random_forest_model.feature_importances_, 4)})\n",
    "display(coef_df)\n",
    "\n",
    "test_df['predicted_u_star'] = random_forest_model.predict(X_test) * test_df['u_star_hat']\n",
    "test_df['actual_cost'] = test_df.apply(lambda row: methods.cal_cost(row['c'], row['h'], row['u'], row['predicted_u_star']), axis=1)\n",
    "print(f'Actual Mean cost: {test_df['actual_cost'].mean():.2f}, Actual Median cost: {test_df['actual_cost'].median():.2f}')\n",
    "print(f'Optimal Mean cost: {test_df['optimal_cost'].mean():.2f}, Optimal Median cost: {test_df['optimal_cost'].median():.2f}')"
   ]
  },
  {
   "cell_type": "markdown",
   "metadata": {
    "collapsed": false
   },
   "source": [
    "## Gradient Boost for z"
   ]
  },
  {
   "cell_type": "code",
   "execution_count": 75,
   "metadata": {
    "ExecuteTime": {
     "end_time": "2024-08-14T22:02:03.294621Z",
     "start_time": "2024-08-14T22:02:01.989371Z"
    },
    "collapsed": false
   },
   "outputs": [
    {
     "name": "stdout",
     "output_type": "stream",
     "text": [
      "gradient_boost_model train accuracy: 56.77%\n",
      "gradient_boost_model test accuracy: 29.64%\n"
     ]
    },
    {
     "data": {
      "text/html": [
       "<div>\n",
       "<style scoped>\n",
       "    .dataframe tbody tr th:only-of-type {\n",
       "        vertical-align: middle;\n",
       "    }\n",
       "\n",
       "    .dataframe tbody tr th {\n",
       "        vertical-align: top;\n",
       "    }\n",
       "\n",
       "    .dataframe thead th {\n",
       "        text-align: right;\n",
       "    }\n",
       "</style>\n",
       "<table border=\"1\" class=\"dataframe\">\n",
       "  <thead>\n",
       "    <tr style=\"text-align: right;\">\n",
       "      <th></th>\n",
       "      <th>Feature</th>\n",
       "      <th>Importance</th>\n",
       "    </tr>\n",
       "  </thead>\n",
       "  <tbody>\n",
       "    <tr>\n",
       "      <th>0</th>\n",
       "      <td>N</td>\n",
       "      <td>0.0257</td>\n",
       "    </tr>\n",
       "    <tr>\n",
       "      <th>1</th>\n",
       "      <td>n</td>\n",
       "      <td>0.0000</td>\n",
       "    </tr>\n",
       "    <tr>\n",
       "      <th>2</th>\n",
       "      <td>h</td>\n",
       "      <td>0.0132</td>\n",
       "    </tr>\n",
       "    <tr>\n",
       "      <th>3</th>\n",
       "      <td>c</td>\n",
       "      <td>0.0123</td>\n",
       "    </tr>\n",
       "    <tr>\n",
       "      <th>4</th>\n",
       "      <td>mean_n</td>\n",
       "      <td>0.5995</td>\n",
       "    </tr>\n",
       "    <tr>\n",
       "      <th>5</th>\n",
       "      <td>std_n</td>\n",
       "      <td>0.0595</td>\n",
       "    </tr>\n",
       "    <tr>\n",
       "      <th>6</th>\n",
       "      <td>alpha_hat</td>\n",
       "      <td>0.1163</td>\n",
       "    </tr>\n",
       "    <tr>\n",
       "      <th>7</th>\n",
       "      <td>beta_hat</td>\n",
       "      <td>0.0601</td>\n",
       "    </tr>\n",
       "    <tr>\n",
       "      <th>8</th>\n",
       "      <td>u_star_hat</td>\n",
       "      <td>0.1133</td>\n",
       "    </tr>\n",
       "  </tbody>\n",
       "</table>\n",
       "</div>"
      ],
      "text/plain": [
       "      Feature  Importance\n",
       "0           N      0.0257\n",
       "1           n      0.0000\n",
       "2           h      0.0132\n",
       "3           c      0.0123\n",
       "4      mean_n      0.5995\n",
       "5       std_n      0.0595\n",
       "6   alpha_hat      0.1163\n",
       "7    beta_hat      0.0601\n",
       "8  u_star_hat      0.1133"
      ]
     },
     "metadata": {},
     "output_type": "display_data"
    },
    {
     "name": "stdout",
     "output_type": "stream",
     "text": [
      "Actual Mean cost: 9.86, Actual Median cost: 4.75\n",
      "Optimal Mean cost: 5.31, Optimal Median cost: 2.29\n"
     ]
    }
   ],
   "source": [
    "gradient_boost_model = GradientBoostingRegressor(random_state=50, min_samples_split=6, min_samples_leaf=2, max_depth=5)\n",
    "\n",
    "gradient_boost_model.fit(X_train, y_train)\n",
    "print(f'gradient_boost_model train accuracy: {gradient_boost_model.score(X_train, y_train):.2%}')\n",
    "print(f'gradient_boost_model test accuracy: {gradient_boost_model.score(X_test, y_test):.2%}')\n",
    "coef_df = pd.DataFrame({'Feature': X_train.columns, 'Importance': np.round(gradient_boost_model.feature_importances_, 4)})\n",
    "display(coef_df)\n",
    "\n",
    "test_df['predicted_u_star'] = gradient_boost_model.predict(X_test) * test_df['u_star_hat']\n",
    "test_df['actual_cost'] = test_df.apply(lambda row: methods.cal_cost(row['c'], row['h'], row['u'], row['predicted_u_star']), axis=1)\n",
    "print(f'Actual Mean cost: {test_df['actual_cost'].mean():.2f}, Actual Median cost: {test_df['actual_cost'].median():.2f}')\n",
    "print(f'Optimal Mean cost: {test_df['optimal_cost'].mean():.2f}, Optimal Median cost: {test_df['optimal_cost'].median():.2f}')"
   ]
  }
 ],
 "metadata": {
  "kernelspec": {
   "display_name": "mlClass",
   "language": "python",
   "name": "python3"
  },
  "language_info": {
   "codemirror_mode": {
    "name": "ipython",
    "version": 3
   },
   "file_extension": ".py",
   "mimetype": "text/x-python",
   "name": "python",
   "nbconvert_exporter": "python",
   "pygments_lexer": "ipython3",
   "version": "3.12.1"
  }
 },
 "nbformat": 4,
 "nbformat_minor": 2
}
