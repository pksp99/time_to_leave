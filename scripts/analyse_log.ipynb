{
 "cells": [
  {
   "cell_type": "code",
   "execution_count": 4,
   "metadata": {
    "ExecuteTime": {
     "end_time": "2024-08-11T23:43:01.792295Z",
     "start_time": "2024-08-11T23:43:01.789826Z"
    }
   },
   "outputs": [],
   "source": [
    "import pandas as pd\n",
    "import re\n",
    "import numpy as np\n",
    "import ast\n"
   ]
  },
  {
   "cell_type": "code",
   "execution_count": 5,
   "metadata": {
    "ExecuteTime": {
     "end_time": "2024-08-11T23:43:01.795841Z",
     "start_time": "2024-08-11T23:43:01.794180Z"
    }
   },
   "outputs": [],
   "source": [
    "def parse_log_file(file_path):\n",
    "    with open(file_path, 'r') as file:\n",
    "        lines = file.readlines()\n",
    "    \n",
    "    log_entries = []\n",
    "    for line in lines:\n",
    "        match = re.match(r'(\\S+) (\\S+) - (\\S+) - (.*)', line)\n",
    "        if match:\n",
    "            date, time, level, message = match.groups()\n",
    "            process_match = re.match(r'(Start|End) process-(\\d+): (.*)', message)\n",
    "            if process_match:\n",
    "                event, process_id, m = process_match.groups()\n",
    "                log_entries.append([date + ' ' + time, m, event, process_id, level])\n",
    "    \n",
    "    return pd.DataFrame(log_entries, columns=['Timestamp', 'Message', 'Event', 'ProcessID', 'Level'])\n",
    "\n",
    "\n"
   ]
  },
  {
   "cell_type": "code",
   "execution_count": 6,
   "metadata": {
    "ExecuteTime": {
     "end_time": "2024-08-11T23:43:03.289879Z",
     "start_time": "2024-08-11T23:43:01.798030Z"
    }
   },
   "outputs": [
    {
     "name": "stdout",
     "output_type": "stream",
     "text": [
      "Complete Processes\n"
     ]
    },
    {
     "data": {
      "text/plain": "     ProcessID  Duration  alpha  beta     h   c   N  n     mean_n     std_n  \\\n1943      2747   128.626      7   1.5  0.40  25  36  5  11.018420  0.531576   \n4458       511   112.676      7   2.0  0.05  15  35  5  13.988480  0.684816   \n3795      4414    79.290      7   1.0  0.05  20  37  5   7.719874  0.401090   \n2066      2858    66.448      7   1.0  0.05  30  45  5   7.999946  0.517747   \n1376      2236    60.349      2   2.0  0.10  30  40  5   3.277287  0.192101   \n\n       alpha_hat  beta_hat                                      intervals_str  \\\n1943  429.643263  0.025646  10.782755125109665_11.07029820398264_11.875847...   \n4458  417.247162  0.033526  13.164449274425104_13.735692606013847_14.71797...   \n3795  370.456982  0.020839  7.635586176821438_7.955491704341508_7.07521850...   \n2066  238.747464  0.033508  7.894474522504195_8.88636074937826_7.948207297...   \n1376  291.051502  0.011260  3.521486231915436_3.2746549807957943_3.1676712...   \n\n               u      u_star  u_star_hat         z  optimal_cost  actual_cost  \n1943  403.541753  358.807132  390.172434  0.919612     17.893848     5.347728  \n4458  493.416607  437.792072  479.089459  0.913800      2.781227     0.716357  \n3795  273.250922  224.997663  278.616425  0.807553      2.412663    20.000000  \n2066  297.258802  275.213271  349.951212  0.786433      1.102277    30.000000  \n1376  145.096500  125.624812  127.433078  0.985810      1.947169     1.766342  ",
      "text/html": "<div>\n<style scoped>\n    .dataframe tbody tr th:only-of-type {\n        vertical-align: middle;\n    }\n\n    .dataframe tbody tr th {\n        vertical-align: top;\n    }\n\n    .dataframe thead th {\n        text-align: right;\n    }\n</style>\n<table border=\"1\" class=\"dataframe\">\n  <thead>\n    <tr style=\"text-align: right;\">\n      <th></th>\n      <th>ProcessID</th>\n      <th>Duration</th>\n      <th>alpha</th>\n      <th>beta</th>\n      <th>h</th>\n      <th>c</th>\n      <th>N</th>\n      <th>n</th>\n      <th>mean_n</th>\n      <th>std_n</th>\n      <th>alpha_hat</th>\n      <th>beta_hat</th>\n      <th>intervals_str</th>\n      <th>u</th>\n      <th>u_star</th>\n      <th>u_star_hat</th>\n      <th>z</th>\n      <th>optimal_cost</th>\n      <th>actual_cost</th>\n    </tr>\n  </thead>\n  <tbody>\n    <tr>\n      <th>1943</th>\n      <td>2747</td>\n      <td>128.626</td>\n      <td>7</td>\n      <td>1.5</td>\n      <td>0.40</td>\n      <td>25</td>\n      <td>36</td>\n      <td>5</td>\n      <td>11.018420</td>\n      <td>0.531576</td>\n      <td>429.643263</td>\n      <td>0.025646</td>\n      <td>10.782755125109665_11.07029820398264_11.875847...</td>\n      <td>403.541753</td>\n      <td>358.807132</td>\n      <td>390.172434</td>\n      <td>0.919612</td>\n      <td>17.893848</td>\n      <td>5.347728</td>\n    </tr>\n    <tr>\n      <th>4458</th>\n      <td>511</td>\n      <td>112.676</td>\n      <td>7</td>\n      <td>2.0</td>\n      <td>0.05</td>\n      <td>15</td>\n      <td>35</td>\n      <td>5</td>\n      <td>13.988480</td>\n      <td>0.684816</td>\n      <td>417.247162</td>\n      <td>0.033526</td>\n      <td>13.164449274425104_13.735692606013847_14.71797...</td>\n      <td>493.416607</td>\n      <td>437.792072</td>\n      <td>479.089459</td>\n      <td>0.913800</td>\n      <td>2.781227</td>\n      <td>0.716357</td>\n    </tr>\n    <tr>\n      <th>3795</th>\n      <td>4414</td>\n      <td>79.290</td>\n      <td>7</td>\n      <td>1.0</td>\n      <td>0.05</td>\n      <td>20</td>\n      <td>37</td>\n      <td>5</td>\n      <td>7.719874</td>\n      <td>0.401090</td>\n      <td>370.456982</td>\n      <td>0.020839</td>\n      <td>7.635586176821438_7.955491704341508_7.07521850...</td>\n      <td>273.250922</td>\n      <td>224.997663</td>\n      <td>278.616425</td>\n      <td>0.807553</td>\n      <td>2.412663</td>\n      <td>20.000000</td>\n    </tr>\n    <tr>\n      <th>2066</th>\n      <td>2858</td>\n      <td>66.448</td>\n      <td>7</td>\n      <td>1.0</td>\n      <td>0.05</td>\n      <td>30</td>\n      <td>45</td>\n      <td>5</td>\n      <td>7.999946</td>\n      <td>0.517747</td>\n      <td>238.747464</td>\n      <td>0.033508</td>\n      <td>7.894474522504195_8.88636074937826_7.948207297...</td>\n      <td>297.258802</td>\n      <td>275.213271</td>\n      <td>349.951212</td>\n      <td>0.786433</td>\n      <td>1.102277</td>\n      <td>30.000000</td>\n    </tr>\n    <tr>\n      <th>1376</th>\n      <td>2236</td>\n      <td>60.349</td>\n      <td>2</td>\n      <td>2.0</td>\n      <td>0.10</td>\n      <td>30</td>\n      <td>40</td>\n      <td>5</td>\n      <td>3.277287</td>\n      <td>0.192101</td>\n      <td>291.051502</td>\n      <td>0.011260</td>\n      <td>3.521486231915436_3.2746549807957943_3.1676712...</td>\n      <td>145.096500</td>\n      <td>125.624812</td>\n      <td>127.433078</td>\n      <td>0.985810</td>\n      <td>1.947169</td>\n      <td>1.766342</td>\n    </tr>\n  </tbody>\n</table>\n</div>"
     },
     "metadata": {},
     "output_type": "display_data"
    },
    {
     "name": "stdout",
     "output_type": "stream",
     "text": [
      "Incomplete Processes\n"
     ]
    },
    {
     "data": {
      "text/plain": "  ProcessID  alpha  beta     h   c   N  n    mean_n     std_n   alpha_hat  \\\n0      3071      3     1  0.05  30  43  5  2.553718  0.111179  527.598917   \n\n   beta_hat                                      intervals_str  \n0   0.00484  2.570858789336957_2.4564096334856984_2.7347184...  ",
      "text/html": "<div>\n<style scoped>\n    .dataframe tbody tr th:only-of-type {\n        vertical-align: middle;\n    }\n\n    .dataframe tbody tr th {\n        vertical-align: top;\n    }\n\n    .dataframe thead th {\n        text-align: right;\n    }\n</style>\n<table border=\"1\" class=\"dataframe\">\n  <thead>\n    <tr style=\"text-align: right;\">\n      <th></th>\n      <th>ProcessID</th>\n      <th>alpha</th>\n      <th>beta</th>\n      <th>h</th>\n      <th>c</th>\n      <th>N</th>\n      <th>n</th>\n      <th>mean_n</th>\n      <th>std_n</th>\n      <th>alpha_hat</th>\n      <th>beta_hat</th>\n      <th>intervals_str</th>\n    </tr>\n  </thead>\n  <tbody>\n    <tr>\n      <th>0</th>\n      <td>3071</td>\n      <td>3</td>\n      <td>1</td>\n      <td>0.05</td>\n      <td>30</td>\n      <td>43</td>\n      <td>5</td>\n      <td>2.553718</td>\n      <td>0.111179</td>\n      <td>527.598917</td>\n      <td>0.00484</td>\n      <td>2.570858789336957_2.4564096334856984_2.7347184...</td>\n    </tr>\n  </tbody>\n</table>\n</div>"
     },
     "metadata": {},
     "output_type": "display_data"
    }
   ],
   "source": [
    "# Parse the log file\n",
    "log_file_path = '../data/app.log'\n",
    "df = parse_log_file(log_file_path)\n",
    "\n",
    "df['Timestamp'] = pd.to_datetime(df['Timestamp'], format='%Y-%m-%d %H:%M:%S,%f')\n",
    "\n",
    "# Group by 'ProcessID'\n",
    "grouped = df.groupby(['ProcessID'])\n",
    "\n",
    "\n",
    "# Create a DataFrame to hold combined results\n",
    "completed = []\n",
    "incomplete = []\n",
    "for process_id, group in grouped:\n",
    "    start_row = group[group['Event'] == 'Start']\n",
    "    end_row = group[group['Event'] == 'End']\n",
    "\n",
    "    # Incomplete Process\n",
    "    if(len(end_row) == 0 or end_row['Level'].values[0] == 'CRITICAL'):\n",
    "        di = ast.literal_eval(start_row['Message'].values[0])\n",
    "        di['ProcessID'] = process_id[0]\n",
    "        incomplete.append(di)\n",
    "    \n",
    "    # Completed Process\n",
    "    else:\n",
    "        di = ast.literal_eval(end_row['Message'].values[0])\n",
    "        start_time = start_row['Timestamp'].values[0]\n",
    "        end_time = end_row['Timestamp'].values[0]\n",
    "        duration = end_time - start_time\n",
    "        di['ProcessID'] = process_id[0]\n",
    "        di['Duration'] = duration / np.timedelta64(1, 's')\n",
    "        completed.append(di)\n",
    "\n",
    "\n",
    "\n",
    "print('Complete Processes')\n",
    "completed_df = pd.DataFrame(completed)\n",
    "completed_col = ['ProcessID', 'Duration'] + [col for col in completed_df.columns if col not in ['ProcessID', 'Duration']]\n",
    "completed_df = completed_df[completed_col]\n",
    "display(completed_df.sort_values(by='Duration', ascending=False).head()) # Sorting in decreasing value of Duration.\n",
    "\n",
    "\n",
    "if(len(incomplete) > 0):\n",
    "    print('Incomplete Processes')\n",
    "    incomplete_df = pd.DataFrame(incomplete)\n",
    "    incomplete_col = ['ProcessID'] + [col for col in incomplete_df.columns if col not in ['ProcessID']]\n",
    "    incomplete_df = incomplete_df[incomplete_col]\n",
    "    display(incomplete_df)\n",
    "\n",
    "\n"
   ]
  }
 ],
 "metadata": {
  "kernelspec": {
   "display_name": "mlClass",
   "language": "python",
   "name": "python3"
  },
  "language_info": {
   "codemirror_mode": {
    "name": "ipython",
    "version": 3
   },
   "file_extension": ".py",
   "mimetype": "text/x-python",
   "name": "python",
   "nbconvert_exporter": "python",
   "pygments_lexer": "ipython3",
   "version": "3.12.1"
  }
 },
 "nbformat": 4,
 "nbformat_minor": 2
}
